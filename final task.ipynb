{
 "cells": [
  {
   "attachments": {},
   "cell_type": "markdown",
   "metadata": {},
   "source": [
    "# ИССЛЕДОВАНИЕ ДАННЫХ HR-АГЕНТСТВА"
   ]
  },
  {
   "attachments": {},
   "cell_type": "markdown",
   "metadata": {},
   "source": [
    "### HR-агентство изучает тренды на рынке труда в IT. Компания хочет провести исследование на основе данных о зарплатах в сфере Data Science за 2020–2022 годы и получить некоторые выводы.\n",
    "\n",
    "## В процессе своего анализа вы должны:\n",
    "\n",
    "1. Выяснить, какие факторы влияют на зарплату специалиста Data Scientist.\n",
    "2. А также ответить на ключевые вопросы HR-агентства:\n",
    "- Наблюдается ли ежегодный рост зарплат у специалистов Data Scientist?\n",
    "- Как соотносятся зарплаты Data Scientist и Data Engineer в 2022 году?\n",
    "- Как соотносятся зарплаты специалистов Data Scientist в компаниях различных размеров?\n",
    "- Есть ли связь между наличием должностей Data Scientist и Data Engineer и размером компании?\n",
    "- Если вы найдёте в данных интересные закономерности, также отметьте их в своём анализе.\n",
    "\n",
    "Продемонстрируйте использование разных тестов для проверки статистической значимости сделанных выводов:\n",
    "\n",
    "- тесты для количественного признака:\n",
    "- для одной выборки;\n",
    "- для двух выборок;\n",
    "- для нескольких выборок;\n",
    "- тест для категориальных признаков.\n",
    "\n",
    "Результатом вашей работы должен стать ноутбук (IPYNB-файл) с кодом для исследования, а также с выводами и рассуждениями, полученными на основе разведывательного анализа."
   ]
  },
  {
   "attachments": {},
   "cell_type": "markdown",
   "metadata": {},
   "source": [
    "#### Описание\n",
    "\n",
    "- work_year - Год, в котором была выплачена зарплата.\n",
    "- experience_level - Опыт работы на этой должности в течение года со следующими возможными значениями:\n",
    "* *EN* — Entry-level/Junior; \n",
    "* *MI* — Mid-level/Intermediate;\n",
    "* *SE* — Senior-level/Expert;\n",
    "* *EX* —  Executive-level/Director.\n",
    "\n",
    "- employment_type - Тип трудоустройства для этой роли:\n",
    "* *PT* — неполный рабочий день;\n",
    "* *FT* — полный рабочий день;\n",
    "* *CT* — контракт;\n",
    "* *FL* — фриланс\n",
    "\n",
    "- job_title - Роль, в которой соискатель работал в течение года.\n",
    "- salary - Общая выплаченная валовая сумма заработной платы.\n",
    "- salary_currency - Валюта выплачиваемой заработной платы в виде кода валюты ISO 4217.\n",
    "- salary_in_usd - Зарплата в долларах США (валютный курс, делённый на среднее значение курса доллара США за соответствующий год через fxdata.foorilla.com).\n",
    "- employee_residence - Основная страна проживания сотрудника в течение рабочего года в виде кода страны ISO 3166.\n",
    "\n",
    "- remote_ratio - Общий объём работы, выполняемой удалённо. Возможные значения:\n",
    "* *0* — удалённой работы нет (менее 20 %);\n",
    "* *50* — частично удалённая работа;\n",
    "* *100* — полностью удалённая работа (более 80 %)\n",
    "\n",
    "- company_location - Страна главного офиса работодателя или филиала по контракту в виде кода страны ISO 3166\n",
    "- company_size - Среднее количество людей, работавших в компании в течение года:\n",
    "* *S* — менее 50 сотрудников (небольшая компания);\n",
    "* *M* — от 50 до 250 сотрудников (средняя компания);\n",
    "* *L* — более 250 сотрудников (крупная компания)."
   ]
  },
  {
   "attachments": {},
   "cell_type": "markdown",
   "metadata": {},
   "source": [
    "## 1.Загрузка и обработка данных"
   ]
  },
  {
   "attachments": {},
   "cell_type": "markdown",
   "metadata": {},
   "source": [
    "### 1.1 Импорт необходимых библиотек и загрузка данных"
   ]
  },
  {
   "cell_type": "code",
   "execution_count": 1,
   "metadata": {},
   "outputs": [],
   "source": [
    "# импорт необходимых библиотек\n",
    "import pandas as pd\n",
    "import numpy as np\n",
    "from scipy import stats\n",
    "import statsmodels.api as sm\n",
    "from statsmodels import stats as sms\n",
    "import matplotlib.pyplot as plt\n",
    "import seaborn as sns\n",
    "import category_encoders as ce\n",
    "sns.set_theme(\"notebook\")\n",
    "sns.set_palette(\"Set2\")"
   ]
  },
  {
   "cell_type": "code",
   "execution_count": 2,
   "metadata": {},
   "outputs": [
    {
     "data": {
      "text/html": [
       "<div>\n",
       "<style scoped>\n",
       "    .dataframe tbody tr th:only-of-type {\n",
       "        vertical-align: middle;\n",
       "    }\n",
       "\n",
       "    .dataframe tbody tr th {\n",
       "        vertical-align: top;\n",
       "    }\n",
       "\n",
       "    .dataframe thead th {\n",
       "        text-align: right;\n",
       "    }\n",
       "</style>\n",
       "<table border=\"1\" class=\"dataframe\">\n",
       "  <thead>\n",
       "    <tr style=\"text-align: right;\">\n",
       "      <th></th>\n",
       "      <th>Unnamed: 0</th>\n",
       "      <th>work_year</th>\n",
       "      <th>experience_level</th>\n",
       "      <th>employment_type</th>\n",
       "      <th>job_title</th>\n",
       "      <th>salary</th>\n",
       "      <th>salary_currency</th>\n",
       "      <th>salary_in_usd</th>\n",
       "      <th>employee_residence</th>\n",
       "      <th>remote_ratio</th>\n",
       "      <th>company_location</th>\n",
       "      <th>company_size</th>\n",
       "    </tr>\n",
       "  </thead>\n",
       "  <tbody>\n",
       "    <tr>\n",
       "      <th>0</th>\n",
       "      <td>0</td>\n",
       "      <td>2020</td>\n",
       "      <td>MI</td>\n",
       "      <td>FT</td>\n",
       "      <td>Data Scientist</td>\n",
       "      <td>70000</td>\n",
       "      <td>EUR</td>\n",
       "      <td>79833</td>\n",
       "      <td>DE</td>\n",
       "      <td>0</td>\n",
       "      <td>DE</td>\n",
       "      <td>L</td>\n",
       "    </tr>\n",
       "    <tr>\n",
       "      <th>1</th>\n",
       "      <td>1</td>\n",
       "      <td>2020</td>\n",
       "      <td>SE</td>\n",
       "      <td>FT</td>\n",
       "      <td>Machine Learning Scientist</td>\n",
       "      <td>260000</td>\n",
       "      <td>USD</td>\n",
       "      <td>260000</td>\n",
       "      <td>JP</td>\n",
       "      <td>0</td>\n",
       "      <td>JP</td>\n",
       "      <td>S</td>\n",
       "    </tr>\n",
       "    <tr>\n",
       "      <th>2</th>\n",
       "      <td>2</td>\n",
       "      <td>2020</td>\n",
       "      <td>SE</td>\n",
       "      <td>FT</td>\n",
       "      <td>Big Data Engineer</td>\n",
       "      <td>85000</td>\n",
       "      <td>GBP</td>\n",
       "      <td>109024</td>\n",
       "      <td>GB</td>\n",
       "      <td>50</td>\n",
       "      <td>GB</td>\n",
       "      <td>M</td>\n",
       "    </tr>\n",
       "    <tr>\n",
       "      <th>3</th>\n",
       "      <td>3</td>\n",
       "      <td>2020</td>\n",
       "      <td>MI</td>\n",
       "      <td>FT</td>\n",
       "      <td>Product Data Analyst</td>\n",
       "      <td>20000</td>\n",
       "      <td>USD</td>\n",
       "      <td>20000</td>\n",
       "      <td>HN</td>\n",
       "      <td>0</td>\n",
       "      <td>HN</td>\n",
       "      <td>S</td>\n",
       "    </tr>\n",
       "    <tr>\n",
       "      <th>4</th>\n",
       "      <td>4</td>\n",
       "      <td>2020</td>\n",
       "      <td>SE</td>\n",
       "      <td>FT</td>\n",
       "      <td>Machine Learning Engineer</td>\n",
       "      <td>150000</td>\n",
       "      <td>USD</td>\n",
       "      <td>150000</td>\n",
       "      <td>US</td>\n",
       "      <td>50</td>\n",
       "      <td>US</td>\n",
       "      <td>L</td>\n",
       "    </tr>\n",
       "    <tr>\n",
       "      <th>5</th>\n",
       "      <td>5</td>\n",
       "      <td>2020</td>\n",
       "      <td>EN</td>\n",
       "      <td>FT</td>\n",
       "      <td>Data Analyst</td>\n",
       "      <td>72000</td>\n",
       "      <td>USD</td>\n",
       "      <td>72000</td>\n",
       "      <td>US</td>\n",
       "      <td>100</td>\n",
       "      <td>US</td>\n",
       "      <td>L</td>\n",
       "    </tr>\n",
       "    <tr>\n",
       "      <th>6</th>\n",
       "      <td>6</td>\n",
       "      <td>2020</td>\n",
       "      <td>SE</td>\n",
       "      <td>FT</td>\n",
       "      <td>Lead Data Scientist</td>\n",
       "      <td>190000</td>\n",
       "      <td>USD</td>\n",
       "      <td>190000</td>\n",
       "      <td>US</td>\n",
       "      <td>100</td>\n",
       "      <td>US</td>\n",
       "      <td>S</td>\n",
       "    </tr>\n",
       "    <tr>\n",
       "      <th>7</th>\n",
       "      <td>7</td>\n",
       "      <td>2020</td>\n",
       "      <td>MI</td>\n",
       "      <td>FT</td>\n",
       "      <td>Data Scientist</td>\n",
       "      <td>11000000</td>\n",
       "      <td>HUF</td>\n",
       "      <td>35735</td>\n",
       "      <td>HU</td>\n",
       "      <td>50</td>\n",
       "      <td>HU</td>\n",
       "      <td>L</td>\n",
       "    </tr>\n",
       "    <tr>\n",
       "      <th>8</th>\n",
       "      <td>8</td>\n",
       "      <td>2020</td>\n",
       "      <td>MI</td>\n",
       "      <td>FT</td>\n",
       "      <td>Business Data Analyst</td>\n",
       "      <td>135000</td>\n",
       "      <td>USD</td>\n",
       "      <td>135000</td>\n",
       "      <td>US</td>\n",
       "      <td>100</td>\n",
       "      <td>US</td>\n",
       "      <td>L</td>\n",
       "    </tr>\n",
       "    <tr>\n",
       "      <th>9</th>\n",
       "      <td>9</td>\n",
       "      <td>2020</td>\n",
       "      <td>SE</td>\n",
       "      <td>FT</td>\n",
       "      <td>Lead Data Engineer</td>\n",
       "      <td>125000</td>\n",
       "      <td>USD</td>\n",
       "      <td>125000</td>\n",
       "      <td>NZ</td>\n",
       "      <td>50</td>\n",
       "      <td>NZ</td>\n",
       "      <td>S</td>\n",
       "    </tr>\n",
       "  </tbody>\n",
       "</table>\n",
       "</div>"
      ],
      "text/plain": [
       "   Unnamed: 0  work_year experience_level employment_type  \\\n",
       "0           0       2020               MI              FT   \n",
       "1           1       2020               SE              FT   \n",
       "2           2       2020               SE              FT   \n",
       "3           3       2020               MI              FT   \n",
       "4           4       2020               SE              FT   \n",
       "5           5       2020               EN              FT   \n",
       "6           6       2020               SE              FT   \n",
       "7           7       2020               MI              FT   \n",
       "8           8       2020               MI              FT   \n",
       "9           9       2020               SE              FT   \n",
       "\n",
       "                    job_title    salary salary_currency  salary_in_usd  \\\n",
       "0              Data Scientist     70000             EUR          79833   \n",
       "1  Machine Learning Scientist    260000             USD         260000   \n",
       "2           Big Data Engineer     85000             GBP         109024   \n",
       "3        Product Data Analyst     20000             USD          20000   \n",
       "4   Machine Learning Engineer    150000             USD         150000   \n",
       "5                Data Analyst     72000             USD          72000   \n",
       "6         Lead Data Scientist    190000             USD         190000   \n",
       "7              Data Scientist  11000000             HUF          35735   \n",
       "8       Business Data Analyst    135000             USD         135000   \n",
       "9          Lead Data Engineer    125000             USD         125000   \n",
       "\n",
       "  employee_residence  remote_ratio company_location company_size  \n",
       "0                 DE             0               DE            L  \n",
       "1                 JP             0               JP            S  \n",
       "2                 GB            50               GB            M  \n",
       "3                 HN             0               HN            S  \n",
       "4                 US            50               US            L  \n",
       "5                 US           100               US            L  \n",
       "6                 US           100               US            S  \n",
       "7                 HU            50               HU            L  \n",
       "8                 US           100               US            L  \n",
       "9                 NZ            50               NZ            S  "
      ]
     },
     "execution_count": 2,
     "metadata": {},
     "output_type": "execute_result"
    }
   ],
   "source": [
    "data=pd.read_csv('data/ds_salaries.csv')\n",
    "data.head(10) # смотрим первые 10 строк нашего сета"
   ]
  },
  {
   "cell_type": "code",
   "execution_count": 3,
   "metadata": {},
   "outputs": [
    {
     "name": "stdout",
     "output_type": "stream",
     "text": [
      "Уровень значимости alpha = 0.05\n"
     ]
    }
   ],
   "source": [
    "# устанавливаем уровень альа значимости\n",
    "alpha=0.05\n",
    "print(\"Уровень значимости alpha = {:.2f}\".format(alpha))"
   ]
  },
  {
   "attachments": {},
   "cell_type": "markdown",
   "metadata": {},
   "source": [
    "### 1.2 Проверка данных на пустые значения, дубликаты и корректность типов данных"
   ]
  },
  {
   "cell_type": "code",
   "execution_count": 4,
   "metadata": {},
   "outputs": [
    {
     "name": "stdout",
     "output_type": "stream",
     "text": [
      "<class 'pandas.core.frame.DataFrame'>\n",
      "RangeIndex: 607 entries, 0 to 606\n",
      "Data columns (total 12 columns):\n",
      " #   Column              Non-Null Count  Dtype \n",
      "---  ------              --------------  ----- \n",
      " 0   Unnamed: 0          607 non-null    int64 \n",
      " 1   work_year           607 non-null    int64 \n",
      " 2   experience_level    607 non-null    object\n",
      " 3   employment_type     607 non-null    object\n",
      " 4   job_title           607 non-null    object\n",
      " 5   salary              607 non-null    int64 \n",
      " 6   salary_currency     607 non-null    object\n",
      " 7   salary_in_usd       607 non-null    int64 \n",
      " 8   employee_residence  607 non-null    object\n",
      " 9   remote_ratio        607 non-null    int64 \n",
      " 10  company_location    607 non-null    object\n",
      " 11  company_size        607 non-null    object\n",
      "dtypes: int64(5), object(7)\n",
      "memory usage: 57.0+ KB\n"
     ]
    }
   ],
   "source": [
    "data.info() # смотрим краткое инфо по сэту"
   ]
  },
  {
   "cell_type": "code",
   "execution_count": 5,
   "metadata": {},
   "outputs": [
    {
     "name": "stdout",
     "output_type": "stream",
     "text": [
      "Количество дубликатов в сете: 0\n"
     ]
    }
   ],
   "source": [
    "# проверяем данные на дубликаты\n",
    "dubl=data[data.duplicated()].shape[0]\n",
    "print('Количество дубликатов в сете:', dubl)"
   ]
  },
  {
   "attachments": {},
   "cell_type": "markdown",
   "metadata": {},
   "source": [
    "Вывод: в датасете 607 записей. Пустые значения и дубликаты отсутствуют. Корректность данных тоже в норме, отклонений не выявил, на первый взгляд каждому из признаков соотвествует свой тип данных."
   ]
  },
  {
   "attachments": {},
   "cell_type": "markdown",
   "metadata": {},
   "source": [
    "### 1.3 Неинформационные столбцы"
   ]
  },
  {
   "attachments": {},
   "cell_type": "markdown",
   "metadata": {},
   "source": [
    "Вывод: судя по всему информация из признаков \"salary\" и \"salary_currency\" абсолютно неинформативна, так как есть признак \"salary_in_usd\", который сводит их к общему знаменателю.\n",
    "Так же 1-ый столбец не несет никакой информации"
   ]
  },
  {
   "cell_type": "code",
   "execution_count": 6,
   "metadata": {},
   "outputs": [
    {
     "data": {
      "text/html": [
       "<div>\n",
       "<style scoped>\n",
       "    .dataframe tbody tr th:only-of-type {\n",
       "        vertical-align: middle;\n",
       "    }\n",
       "\n",
       "    .dataframe tbody tr th {\n",
       "        vertical-align: top;\n",
       "    }\n",
       "\n",
       "    .dataframe thead th {\n",
       "        text-align: right;\n",
       "    }\n",
       "</style>\n",
       "<table border=\"1\" class=\"dataframe\">\n",
       "  <thead>\n",
       "    <tr style=\"text-align: right;\">\n",
       "      <th></th>\n",
       "      <th>work_year</th>\n",
       "      <th>experience_level</th>\n",
       "      <th>employment_type</th>\n",
       "      <th>job_title</th>\n",
       "      <th>salary_in_usd</th>\n",
       "      <th>employee_residence</th>\n",
       "      <th>remote_ratio</th>\n",
       "      <th>company_location</th>\n",
       "      <th>company_size</th>\n",
       "    </tr>\n",
       "  </thead>\n",
       "  <tbody>\n",
       "    <tr>\n",
       "      <th>0</th>\n",
       "      <td>2020</td>\n",
       "      <td>MI</td>\n",
       "      <td>FT</td>\n",
       "      <td>Data Scientist</td>\n",
       "      <td>79833</td>\n",
       "      <td>DE</td>\n",
       "      <td>0</td>\n",
       "      <td>DE</td>\n",
       "      <td>L</td>\n",
       "    </tr>\n",
       "    <tr>\n",
       "      <th>1</th>\n",
       "      <td>2020</td>\n",
       "      <td>SE</td>\n",
       "      <td>FT</td>\n",
       "      <td>Machine Learning Scientist</td>\n",
       "      <td>260000</td>\n",
       "      <td>JP</td>\n",
       "      <td>0</td>\n",
       "      <td>JP</td>\n",
       "      <td>S</td>\n",
       "    </tr>\n",
       "    <tr>\n",
       "      <th>2</th>\n",
       "      <td>2020</td>\n",
       "      <td>SE</td>\n",
       "      <td>FT</td>\n",
       "      <td>Big Data Engineer</td>\n",
       "      <td>109024</td>\n",
       "      <td>GB</td>\n",
       "      <td>50</td>\n",
       "      <td>GB</td>\n",
       "      <td>M</td>\n",
       "    </tr>\n",
       "    <tr>\n",
       "      <th>3</th>\n",
       "      <td>2020</td>\n",
       "      <td>MI</td>\n",
       "      <td>FT</td>\n",
       "      <td>Product Data Analyst</td>\n",
       "      <td>20000</td>\n",
       "      <td>HN</td>\n",
       "      <td>0</td>\n",
       "      <td>HN</td>\n",
       "      <td>S</td>\n",
       "    </tr>\n",
       "    <tr>\n",
       "      <th>4</th>\n",
       "      <td>2020</td>\n",
       "      <td>SE</td>\n",
       "      <td>FT</td>\n",
       "      <td>Machine Learning Engineer</td>\n",
       "      <td>150000</td>\n",
       "      <td>US</td>\n",
       "      <td>50</td>\n",
       "      <td>US</td>\n",
       "      <td>L</td>\n",
       "    </tr>\n",
       "  </tbody>\n",
       "</table>\n",
       "</div>"
      ],
      "text/plain": [
       "   work_year experience_level employment_type                   job_title  \\\n",
       "0       2020               MI              FT              Data Scientist   \n",
       "1       2020               SE              FT  Machine Learning Scientist   \n",
       "2       2020               SE              FT           Big Data Engineer   \n",
       "3       2020               MI              FT        Product Data Analyst   \n",
       "4       2020               SE              FT   Machine Learning Engineer   \n",
       "\n",
       "   salary_in_usd employee_residence  remote_ratio company_location  \\\n",
       "0          79833                 DE             0               DE   \n",
       "1         260000                 JP             0               JP   \n",
       "2         109024                 GB            50               GB   \n",
       "3          20000                 HN             0               HN   \n",
       "4         150000                 US            50               US   \n",
       "\n",
       "  company_size  \n",
       "0            L  \n",
       "1            S  \n",
       "2            M  \n",
       "3            S  \n",
       "4            L  "
      ]
     },
     "execution_count": 6,
     "metadata": {},
     "output_type": "execute_result"
    }
   ],
   "source": [
    "# дропнем неинформационные признаки\n",
    "data.drop(data.columns[[0,5,6]], axis=1, inplace=True)\n",
    "data.head(5)"
   ]
  },
  {
   "attachments": {},
   "cell_type": "markdown",
   "metadata": {},
   "source": [
    "### 1.4 Классификация на категориальные и числовые признаки"
   ]
  },
  {
   "cell_type": "code",
   "execution_count": 7,
   "metadata": {},
   "outputs": [
    {
     "name": "stdout",
     "output_type": "stream",
     "text": [
      "Кол-во уникальных значений в признаке 'год выплаты з/п'= 3\n",
      "Кол-во уникальных значений в признаке 'роль, в которой соискатель работал в течении года'= 50\n",
      "Кол-во уникальных значений в признаке 'основная страна проживания сотрудника'= 57\n",
      "Кол-во уникальных значений в признаке 'страна глаавного офиса работодателя'= 50\n"
     ]
    }
   ],
   "source": [
    "# Для классификации признаков решил посмотреть на кол-во уникальных значений в признаках\n",
    "year=data['work_year'].unique().__len__()\n",
    "print(\"Кол-во уникальных значений в признаке 'год выплаты з/п'=\", year)\n",
    "job=data['job_title'].unique().__len__()\n",
    "print(\"Кол-во уникальных значений в признаке 'роль, в которой соискатель работал в течении года'=\", job)\n",
    "country=data['employee_residence'].unique().__len__()\n",
    "print(\"Кол-во уникальных значений в признаке 'основная страна проживания сотрудника'=\", country)\n",
    "company_location=data['company_location'].unique().__len__()\n",
    "print(\"Кол-во уникальных значений в признаке 'страна глаавного офиса работодателя'=\", company_location)"
   ]
  },
  {
   "attachments": {},
   "cell_type": "markdown",
   "metadata": {},
   "source": [
    "Вывод: на самом деле можно было не производить выше описанную процедуру, а обратить внимание на инфо о нашем сэте.\n",
    "\n",
    "К числовым признакам относятся:\n",
    "- *Salary*, но я не буду им пользоваться, считаю что он не информативен\n",
    "- *Salary_currency*, так же считаю его не пригодным для дальнейшей работы\n",
    "- *Salary_in_usd* вроде как основной признак, вокруг которого будет строится анализ\n",
    "\n",
    "К категориальным признакам относятся:\n",
    "\n",
    "Все оставшиеся признаки. Прнадлежность признаков *experience_level, employment_type, remote_ratio, company_size* в принципе проглядывалась в описании признаков к заданию(в описании признаков уже указана классификация значений на группы). Признаки *work_year, job_title, employee_residence, company_location* показали свою принадлежность проверкой проделанной выше"
   ]
  },
  {
   "attachments": {},
   "cell_type": "markdown",
   "metadata": {},
   "source": [
    "### 1.5 Основные статистические характеристики для признаков"
   ]
  },
  {
   "cell_type": "code",
   "execution_count": 8,
   "metadata": {},
   "outputs": [
    {
     "data": {
      "image/png": "[encoded data removed]",
      "text/plain": [
       "<Figure size 1500x500 with 2 Axes>"
      ]
     },
     "metadata": {},
     "output_type": "display_data"
    }
   ],
   "source": [
    "# Смотрим основной признак - зп в USD\n",
    "fig, axes = plt.subplots(1, 2, figsize=(15, 5))\n",
    "sns.histplot(data['salary_in_usd'], kde=True, ax=axes[0])\n",
    "axes[0].set(xlabel='Размер зп', ylabel='Частота')\n",
    "axes[0].set_title('Распределение зп среди специалистов DS')\n",
    "axes[0].axvline(data['salary_in_usd'].mean(), color='blue', linestyle='--', linewidth=1)\n",
    "\n",
    "sns.boxplot(data['salary_in_usd'], ax=axes[1], orient='h', medianprops={\"color\": \"green\", \"linestyle\": \"--\"})\n",
    "axes[1].set(xlabel='Размер зп')\n",
    "axes[1].set_title('Распределение зп среди специалистов DS')\n",
    "plt.show()"
   ]
  },
  {
   "cell_type": "code",
   "execution_count": 9,
   "metadata": {},
   "outputs": [
    {
     "data": {
      "text/html": [
       "<div>\n",
       "<style scoped>\n",
       "    .dataframe tbody tr th:only-of-type {\n",
       "        vertical-align: middle;\n",
       "    }\n",
       "\n",
       "    .dataframe tbody tr th {\n",
       "        vertical-align: top;\n",
       "    }\n",
       "\n",
       "    .dataframe thead th {\n",
       "        text-align: right;\n",
       "    }\n",
       "</style>\n",
       "<table border=\"1\" class=\"dataframe\">\n",
       "  <thead>\n",
       "    <tr style=\"text-align: right;\">\n",
       "      <th></th>\n",
       "      <th>Размер зп специалистов DS</th>\n",
       "    </tr>\n",
       "  </thead>\n",
       "  <tbody>\n",
       "    <tr>\n",
       "      <th>count</th>\n",
       "      <td>607.0</td>\n",
       "    </tr>\n",
       "    <tr>\n",
       "      <th>mean</th>\n",
       "      <td>112297.9</td>\n",
       "    </tr>\n",
       "    <tr>\n",
       "      <th>std</th>\n",
       "      <td>70957.3</td>\n",
       "    </tr>\n",
       "    <tr>\n",
       "      <th>min</th>\n",
       "      <td>2859.0</td>\n",
       "    </tr>\n",
       "    <tr>\n",
       "      <th>25%</th>\n",
       "      <td>62726.0</td>\n",
       "    </tr>\n",
       "    <tr>\n",
       "      <th>50%</th>\n",
       "      <td>101570.0</td>\n",
       "    </tr>\n",
       "    <tr>\n",
       "      <th>75%</th>\n",
       "      <td>150000.0</td>\n",
       "    </tr>\n",
       "    <tr>\n",
       "      <th>max</th>\n",
       "      <td>600000.0</td>\n",
       "    </tr>\n",
       "  </tbody>\n",
       "</table>\n",
       "</div>"
      ],
      "text/plain": [
       "       Размер зп специалистов DS\n",
       "count                      607.0\n",
       "mean                    112297.9\n",
       "std                      70957.3\n",
       "min                       2859.0\n",
       "25%                      62726.0\n",
       "50%                     101570.0\n",
       "75%                     150000.0\n",
       "max                     600000.0"
      ]
     },
     "execution_count": 9,
     "metadata": {},
     "output_type": "execute_result"
    }
   ],
   "source": [
    "money_agg=data['salary_in_usd'].describe().round(1).to_frame()\n",
    "money_agg.columns=['Размер зп специалистов DS']\n",
    "money_agg"
   ]
  },
  {
   "attachments": {},
   "cell_type": "markdown",
   "metadata": {},
   "source": [
    "Вывод: распределение отличное от нормального, так же присутствуют выбросы"
   ]
  },
  {
   "attachments": {},
   "cell_type": "markdown",
   "metadata": {},
   "source": [
    "### Смотрим признак \"Год, в котором была выплачена зарплата\"(work_year)"
   ]
  },
  {
   "cell_type": "code",
   "execution_count": 42,
   "metadata": {},
   "outputs": [
    {
     "data": {
      "text/plain": [
       "work_year\n",
       "2022    318\n",
       "2021    217\n",
       "2020     72\n",
       "Name: count, dtype: int64"
      ]
     },
     "execution_count": 42,
     "metadata": {},
     "output_type": "execute_result"
    }
   ],
   "source": [
    "# посмотрим на кол-во записей зафиксированных по каждому году\n",
    "data['work_year'].value_counts()"
   ]
  },
  {
   "cell_type": "code",
   "execution_count": 11,
   "metadata": {},
   "outputs": [
    {
     "data": {
      "text/plain": [
       "Text(0, 0.5, 'Количество')"
      ]
     },
     "execution_count": 11,
     "metadata": {},
     "output_type": "execute_result"
    },
    {
     "data": {
      "image/png": "[encoded data removed]",
      "text/plain": [
       "<Figure size 640x480 with 1 Axes>"
      ]
     },
     "metadata": {},
     "output_type": "display_data"
    }
   ],
   "source": [
    "# для лучшей восприимчивости отобразим этот признак визуально\n",
    "data['work_year'].value_counts().plot.bar(color=\"g\")\n",
    "plt.title(\"Кол-во значений в зависиости от года\")\n",
    "plt.xlabel(\"Год\")\n",
    "plt.ylabel(\"Количество\")"
   ]
  },
  {
   "cell_type": "code",
   "execution_count": 12,
   "metadata": {},
   "outputs": [
    {
     "data": {
      "image/png": "[encoded data removed]",
      "text/plain": [
       "<Figure size 640x480 with 1 Axes>"
      ]
     },
     "metadata": {},
     "output_type": "display_data"
    }
   ],
   "source": [
    "# решил посмотреть на динамику зп с течением времени\n",
    "ax = sns.boxplot(data, x='salary_in_usd', y='work_year', orient='h', medianprops={\"color\": \"red\", \"linestyle\": '--'})\n",
    "ax.set(xlabel='Размер зп специалистов', ylabel='Год')\n",
    "plt.title('Распределение зп специалистов по годам')\n",
    "plt.show()"
   ]
  },
  {
   "cell_type": "code",
   "execution_count": 13,
   "metadata": {},
   "outputs": [
    {
     "name": "stdout",
     "output_type": "stream",
     "text": [
      "Распределение зп специалистов в зависимости от года\n"
     ]
    },
    {
     "data": {
      "text/html": [
       "<div>\n",
       "<style scoped>\n",
       "    .dataframe tbody tr th:only-of-type {\n",
       "        vertical-align: middle;\n",
       "    }\n",
       "\n",
       "    .dataframe tbody tr th {\n",
       "        vertical-align: top;\n",
       "    }\n",
       "\n",
       "    .dataframe thead th {\n",
       "        text-align: right;\n",
       "    }\n",
       "</style>\n",
       "<table border=\"1\" class=\"dataframe\">\n",
       "  <thead>\n",
       "    <tr style=\"text-align: right;\">\n",
       "      <th></th>\n",
       "      <th>count</th>\n",
       "      <th>mean</th>\n",
       "      <th>std</th>\n",
       "      <th>min</th>\n",
       "      <th>25%</th>\n",
       "      <th>50%</th>\n",
       "      <th>75%</th>\n",
       "      <th>max</th>\n",
       "    </tr>\n",
       "    <tr>\n",
       "      <th>work_year</th>\n",
       "      <th></th>\n",
       "      <th></th>\n",
       "      <th></th>\n",
       "      <th></th>\n",
       "      <th></th>\n",
       "      <th></th>\n",
       "      <th></th>\n",
       "      <th></th>\n",
       "    </tr>\n",
       "  </thead>\n",
       "  <tbody>\n",
       "    <tr>\n",
       "      <th>2020</th>\n",
       "      <td>72.0</td>\n",
       "      <td>95813.0</td>\n",
       "      <td>82831.8</td>\n",
       "      <td>5707.0</td>\n",
       "      <td>45724.5</td>\n",
       "      <td>75544.0</td>\n",
       "      <td>115526.0</td>\n",
       "      <td>450000.0</td>\n",
       "    </tr>\n",
       "    <tr>\n",
       "      <th>2021</th>\n",
       "      <td>217.0</td>\n",
       "      <td>99853.8</td>\n",
       "      <td>80225.1</td>\n",
       "      <td>2859.0</td>\n",
       "      <td>50000.0</td>\n",
       "      <td>82528.0</td>\n",
       "      <td>135000.0</td>\n",
       "      <td>600000.0</td>\n",
       "    </tr>\n",
       "    <tr>\n",
       "      <th>2022</th>\n",
       "      <td>318.0</td>\n",
       "      <td>124522.0</td>\n",
       "      <td>58183.6</td>\n",
       "      <td>10000.0</td>\n",
       "      <td>81666.0</td>\n",
       "      <td>120000.0</td>\n",
       "      <td>160000.0</td>\n",
       "      <td>405000.0</td>\n",
       "    </tr>\n",
       "  </tbody>\n",
       "</table>\n",
       "</div>"
      ],
      "text/plain": [
       "           count      mean      std      min      25%       50%       75%  \\\n",
       "work_year                                                                   \n",
       "2020        72.0   95813.0  82831.8   5707.0  45724.5   75544.0  115526.0   \n",
       "2021       217.0   99853.8  80225.1   2859.0  50000.0   82528.0  135000.0   \n",
       "2022       318.0  124522.0  58183.6  10000.0  81666.0  120000.0  160000.0   \n",
       "\n",
       "                max  \n",
       "work_year            \n",
       "2020       450000.0  \n",
       "2021       600000.0  \n",
       "2022       405000.0  "
      ]
     },
     "execution_count": 13,
     "metadata": {},
     "output_type": "execute_result"
    }
   ],
   "source": [
    "data_work_year_agg=data.groupby('work_year')['salary_in_usd'].describe().round(1)\n",
    "print('Распределение зп специалистов в зависимости от года')\n",
    "data_work_year_agg"
   ]
  },
  {
   "attachments": {},
   "cell_type": "markdown",
   "metadata": {},
   "source": [
    "Предварительный вывод по признаку \"work_year\": кол-во значений растет в динамике от года к году, не понятно есть ли смысл включать значения 2020 года(72 значения), по причине их невысокого количества относительно 2022 году(318 значений). Так же видна положительная динамика по росту зп у специалистов; наблюдается стабилизация отклонений в зп по 2022 году в отличии от предыдущих годов"
   ]
  },
  {
   "attachments": {},
   "cell_type": "markdown",
   "metadata": {},
   "source": [
    "### Смотрим признак \"Опыт работы на этой должности в течение года\"(experience_level)"
   ]
  },
  {
   "cell_type": "code",
   "execution_count": 43,
   "metadata": {},
   "outputs": [
    {
     "data": {
      "text/plain": [
       "experience_level\n",
       "SE    280\n",
       "MI    213\n",
       "EN     88\n",
       "EX     26\n",
       "Name: count, dtype: int64"
      ]
     },
     "execution_count": 43,
     "metadata": {},
     "output_type": "execute_result"
    }
   ],
   "source": [
    "# посмотрим кол-во записей по каждой позиции\n",
    "data['experience_level'].value_counts()"
   ]
  },
  {
   "cell_type": "code",
   "execution_count": 44,
   "metadata": {},
   "outputs": [
    {
     "data": {
      "text/plain": [
       "Text(0, 0.5, 'Количество')"
      ]
     },
     "execution_count": 44,
     "metadata": {},
     "output_type": "execute_result"
    },
    {
     "data": {
      "image/png": "[encoded data removed]",
      "text/plain": [
       "<Figure size 640x480 with 1 Axes>"
      ]
     },
     "metadata": {},
     "output_type": "display_data"
    }
   ],
   "source": [
    "# отобразим на гистограме, для лучшего восприятия\n",
    "data['experience_level'].value_counts().plot.bar(color='g')\n",
    "plt.title(\"Количество специалистов на каждой позиции\")\n",
    "plt.xlabel(\"Позиция\")\n",
    "plt.ylabel(\"Количество\")"
   ]
  },
  {
   "cell_type": "code",
   "execution_count": 47,
   "metadata": {},
   "outputs": [
    {
     "data": {
      "image/png": "[encoded data removed]",
      "text/plain": [
       "<Figure size 640x480 with 1 Axes>"
      ]
     },
     "metadata": {},
     "output_type": "display_data"
    }
   ],
   "source": [
    "# глянем на зп в зависимости от позиции на рабочем месте\n",
    "ax = sns.boxplot(data, x='salary_in_usd', y='experience_level', orient='h', medianprops={\"color\": \"red\", \"linestyle\": '--'})\n",
    "ax.set(xlabel='Размер зп', ylabel='Позиция на рабочем месте')\n",
    "plt.title('Распределение зп специалистов по позиции')\n",
    "plt.show()"
   ]
  },
  {
   "cell_type": "code",
   "execution_count": 46,
   "metadata": {},
   "outputs": [
    {
     "name": "stdout",
     "output_type": "stream",
     "text": [
      "Распределение зп специалистов в зависимости от позиции\n"
     ]
    },
    {
     "data": {
      "text/html": [
       "<div>\n",
       "<style scoped>\n",
       "    .dataframe tbody tr th:only-of-type {\n",
       "        vertical-align: middle;\n",
       "    }\n",
       "\n",
       "    .dataframe tbody tr th {\n",
       "        vertical-align: top;\n",
       "    }\n",
       "\n",
       "    .dataframe thead th {\n",
       "        text-align: right;\n",
       "    }\n",
       "</style>\n",
       "<table border=\"1\" class=\"dataframe\">\n",
       "  <thead>\n",
       "    <tr style=\"text-align: right;\">\n",
       "      <th></th>\n",
       "      <th>count</th>\n",
       "      <th>mean</th>\n",
       "      <th>std</th>\n",
       "      <th>min</th>\n",
       "      <th>25%</th>\n",
       "      <th>50%</th>\n",
       "      <th>75%</th>\n",
       "      <th>max</th>\n",
       "    </tr>\n",
       "    <tr>\n",
       "      <th>experience_level</th>\n",
       "      <th></th>\n",
       "      <th></th>\n",
       "      <th></th>\n",
       "      <th></th>\n",
       "      <th></th>\n",
       "      <th></th>\n",
       "      <th></th>\n",
       "      <th></th>\n",
       "    </tr>\n",
       "  </thead>\n",
       "  <tbody>\n",
       "    <tr>\n",
       "      <th>EN</th>\n",
       "      <td>88.0</td>\n",
       "      <td>61643.3</td>\n",
       "      <td>44395.5</td>\n",
       "      <td>4000.0</td>\n",
       "      <td>27505.0</td>\n",
       "      <td>56500.0</td>\n",
       "      <td>85425.8</td>\n",
       "      <td>250000.0</td>\n",
       "    </tr>\n",
       "    <tr>\n",
       "      <th>EX</th>\n",
       "      <td>26.0</td>\n",
       "      <td>199392.0</td>\n",
       "      <td>117071.3</td>\n",
       "      <td>69741.0</td>\n",
       "      <td>130006.5</td>\n",
       "      <td>171437.5</td>\n",
       "      <td>233750.0</td>\n",
       "      <td>600000.0</td>\n",
       "    </tr>\n",
       "    <tr>\n",
       "      <th>MI</th>\n",
       "      <td>213.0</td>\n",
       "      <td>87996.1</td>\n",
       "      <td>63901.1</td>\n",
       "      <td>2859.0</td>\n",
       "      <td>48000.0</td>\n",
       "      <td>76940.0</td>\n",
       "      <td>112000.0</td>\n",
       "      <td>450000.0</td>\n",
       "    </tr>\n",
       "    <tr>\n",
       "      <th>SE</th>\n",
       "      <td>280.0</td>\n",
       "      <td>138617.3</td>\n",
       "      <td>57692.0</td>\n",
       "      <td>18907.0</td>\n",
       "      <td>100000.0</td>\n",
       "      <td>135500.0</td>\n",
       "      <td>170000.0</td>\n",
       "      <td>412000.0</td>\n",
       "    </tr>\n",
       "  </tbody>\n",
       "</table>\n",
       "</div>"
      ],
      "text/plain": [
       "                  count      mean       std      min       25%       50%  \\\n",
       "experience_level                                                           \n",
       "EN                 88.0   61643.3   44395.5   4000.0   27505.0   56500.0   \n",
       "EX                 26.0  199392.0  117071.3  69741.0  130006.5  171437.5   \n",
       "MI                213.0   87996.1   63901.1   2859.0   48000.0   76940.0   \n",
       "SE                280.0  138617.3   57692.0  18907.0  100000.0  135500.0   \n",
       "\n",
       "                       75%       max  \n",
       "experience_level                      \n",
       "EN                 85425.8  250000.0  \n",
       "EX                233750.0  600000.0  \n",
       "MI                112000.0  450000.0  \n",
       "SE                170000.0  412000.0  "
      ]
     },
     "execution_count": 46,
     "metadata": {},
     "output_type": "execute_result"
    }
   ],
   "source": [
    "data_experience_level_agg=data.groupby('experience_level')['salary_in_usd'].describe().round(1)\n",
    "print('Распределение зп специалистов в зависимости от позиции')\n",
    "data_experience_level_agg"
   ]
  },
  {
   "attachments": {},
   "cell_type": "markdown",
   "metadata": {},
   "source": [
    "Предварительный вывод по признаку \"experience_level\": выбросы присутствуют по всем категориями. Предварительно видна очевидная картина по уровню зп с точки зрения иерархии IT специалистов(чем выше уровень занимающей должности, тем выше зп). "
   ]
  },
  {
   "attachments": {},
   "cell_type": "markdown",
   "metadata": {},
   "source": [
    "### Смотрим признак \"Тип трудоустройства для этой роли\"(employment_type)"
   ]
  },
  {
   "cell_type": "code",
   "execution_count": 52,
   "metadata": {},
   "outputs": [
    {
     "data": {
      "text/plain": [
       "employment_type\n",
       "FT    588\n",
       "PT     10\n",
       "CT      5\n",
       "FL      4\n",
       "Name: count, dtype: int64"
      ]
     },
     "execution_count": 52,
     "metadata": {},
     "output_type": "execute_result"
    }
   ],
   "source": [
    "# глянем кол-во записей по типам\n",
    "data['employment_type'].value_counts()"
   ]
  },
  {
   "cell_type": "code",
   "execution_count": 54,
   "metadata": {},
   "outputs": [
    {
     "data": {
      "text/plain": [
       "Text(0, 0.5, 'Количество специалистов')"
      ]
     },
     "execution_count": 54,
     "metadata": {},
     "output_type": "execute_result"
    },
    {
     "data": {
      "image/png": "[encoded data removed]",
      "text/plain": [
       "<Figure size 640x480 with 1 Axes>"
      ]
     },
     "metadata": {},
     "output_type": "display_data"
    }
   ],
   "source": [
    "# отобразим на графике\n",
    "data['employment_type'].value_counts().plot.bar(color='g')\n",
    "plt.title(\"Количество спецов в зависимости от типа трудоустройства\")\n",
    "plt.xlabel(\"Тип трудоустройства\")\n",
    "plt.ylabel(\"Количество специалистов\")"
   ]
  },
  {
   "cell_type": "code",
   "execution_count": 51,
   "metadata": {},
   "outputs": [
    {
     "data": {
      "image/png": "[encoded data removed]",
      "text/plain": [
       "<Figure size 640x480 with 1 Axes>"
      ]
     },
     "metadata": {},
     "output_type": "display_data"
    }
   ],
   "source": [
    "# посмотрим распередление зп в зависимости от типа трудоустройства\n",
    "ax = sns.boxplot(data, x='salary_in_usd', y='employment_type', orient='h', medianprops={\"color\": \"red\", \"linestyle\": \"--\"})\n",
    "ax.set(xlabel='Размер зп', ylabel='Тип трудоустройства')\n",
    "plt.title('Распределение зп в зависимости от трудоустройства')\n",
    "plt.show()"
   ]
  },
  {
   "cell_type": "code",
   "execution_count": 50,
   "metadata": {},
   "outputs": [
    {
     "name": "stdout",
     "output_type": "stream",
     "text": [
      "Распределение зп в зависимости от типа трудоустройства\n"
     ]
    },
    {
     "data": {
      "text/html": [
       "<div>\n",
       "<style scoped>\n",
       "    .dataframe tbody tr th:only-of-type {\n",
       "        vertical-align: middle;\n",
       "    }\n",
       "\n",
       "    .dataframe tbody tr th {\n",
       "        vertical-align: top;\n",
       "    }\n",
       "\n",
       "    .dataframe thead th {\n",
       "        text-align: right;\n",
       "    }\n",
       "</style>\n",
       "<table border=\"1\" class=\"dataframe\">\n",
       "  <thead>\n",
       "    <tr style=\"text-align: right;\">\n",
       "      <th></th>\n",
       "      <th>count</th>\n",
       "      <th>mean</th>\n",
       "      <th>std</th>\n",
       "      <th>min</th>\n",
       "      <th>25%</th>\n",
       "      <th>50%</th>\n",
       "      <th>75%</th>\n",
       "      <th>max</th>\n",
       "    </tr>\n",
       "    <tr>\n",
       "      <th>employment_type</th>\n",
       "      <th></th>\n",
       "      <th></th>\n",
       "      <th></th>\n",
       "      <th></th>\n",
       "      <th></th>\n",
       "      <th></th>\n",
       "      <th></th>\n",
       "      <th></th>\n",
       "    </tr>\n",
       "  </thead>\n",
       "  <tbody>\n",
       "    <tr>\n",
       "      <th>CT</th>\n",
       "      <td>5.0</td>\n",
       "      <td>184575.0</td>\n",
       "      <td>156250.9</td>\n",
       "      <td>31875.0</td>\n",
       "      <td>100000.0</td>\n",
       "      <td>105000.0</td>\n",
       "      <td>270000.0</td>\n",
       "      <td>416000.0</td>\n",
       "    </tr>\n",
       "    <tr>\n",
       "      <th>FL</th>\n",
       "      <td>4.0</td>\n",
       "      <td>48000.0</td>\n",
       "      <td>40529.8</td>\n",
       "      <td>12000.0</td>\n",
       "      <td>18000.0</td>\n",
       "      <td>40000.0</td>\n",
       "      <td>70000.0</td>\n",
       "      <td>100000.0</td>\n",
       "    </tr>\n",
       "    <tr>\n",
       "      <th>FT</th>\n",
       "      <td>588.0</td>\n",
       "      <td>113468.1</td>\n",
       "      <td>69476.5</td>\n",
       "      <td>2859.0</td>\n",
       "      <td>64962.2</td>\n",
       "      <td>104196.5</td>\n",
       "      <td>150000.0</td>\n",
       "      <td>600000.0</td>\n",
       "    </tr>\n",
       "    <tr>\n",
       "      <th>PT</th>\n",
       "      <td>10.0</td>\n",
       "      <td>33070.5</td>\n",
       "      <td>31472.9</td>\n",
       "      <td>5409.0</td>\n",
       "      <td>12000.0</td>\n",
       "      <td>18817.5</td>\n",
       "      <td>48370.0</td>\n",
       "      <td>100000.0</td>\n",
       "    </tr>\n",
       "  </tbody>\n",
       "</table>\n",
       "</div>"
      ],
      "text/plain": [
       "                 count      mean       std      min       25%       50%  \\\n",
       "employment_type                                                           \n",
       "CT                 5.0  184575.0  156250.9  31875.0  100000.0  105000.0   \n",
       "FL                 4.0   48000.0   40529.8  12000.0   18000.0   40000.0   \n",
       "FT               588.0  113468.1   69476.5   2859.0   64962.2  104196.5   \n",
       "PT                10.0   33070.5   31472.9   5409.0   12000.0   18817.5   \n",
       "\n",
       "                      75%       max  \n",
       "employment_type                      \n",
       "CT               270000.0  416000.0  \n",
       "FL                70000.0  100000.0  \n",
       "FT               150000.0  600000.0  \n",
       "PT                48370.0  100000.0  "
      ]
     },
     "execution_count": 50,
     "metadata": {},
     "output_type": "execute_result"
    }
   ],
   "source": [
    "data_employement_type_agg=data.groupby('employment_type')['salary_in_usd'].describe().round(1)\n",
    "print('Распределение зп в зависимости от типа трудоустройства')\n",
    "data_employement_type_agg"
   ]
  },
  {
   "attachments": {},
   "cell_type": "markdown",
   "metadata": {},
   "source": [
    "Предварительный вывод по признаку \"employment_level\": выбросы в зп присутствуют только по категории специалистов, которые сидят на FT-графике, так же видим подавляющее кол-во специалистов этой группы, относительно остальных из этой выборки. Так же наблюдается необычный разброс зп среди специалистов на графике CT, но это ни о чем не говорит, так как в данной выборке таких специалистов меннее 1%.\n",
    "\n",
    "**Предварительно предположу что специалистов с графиками CT, FL и PT сильно рассматривать нет необходимости(просто их всех вместе всего 3% от всех)**"
   ]
  },
  {
   "cell_type": "code",
   "execution_count": 58,
   "metadata": {},
   "outputs": [
    {
     "data": {
      "text/plain": [
       "job_title\n",
       "Data Scientist                              143\n",
       "Data Engineer                               132\n",
       "Data Analyst                                 97\n",
       "Machine Learning Engineer                    41\n",
       "Research Scientist                           16\n",
       "Data Science Manager                         12\n",
       "Data Architect                               11\n",
       "Big Data Engineer                             8\n",
       "Machine Learning Scientist                    8\n",
       "Data Analytics Manager                        7\n",
       "Director of Data Science                      7\n",
       "AI Scientist                                  7\n",
       "Principal Data Scientist                      7\n",
       "Data Science Consultant                       7\n",
       "ML Engineer                                   6\n",
       "Computer Vision Engineer                      6\n",
       "BI Data Analyst                               6\n",
       "Lead Data Engineer                            6\n",
       "Data Engineering Manager                      5\n",
       "Business Data Analyst                         5\n",
       "Head of Data                                  5\n",
       "Applied Data Scientist                        5\n",
       "Analytics Engineer                            4\n",
       "Data Analytics Engineer                       4\n",
       "Head of Data Science                          4\n",
       "Applied Machine Learning Scientist            4\n",
       "Machine Learning Developer                    3\n",
       "Machine Learning Infrastructure Engineer      3\n",
       "Lead Data Scientist                           3\n",
       "Computer Vision Software Engineer             3\n",
       "Lead Data Analyst                             3\n",
       "Data Science Engineer                         3\n",
       "Principal Data Engineer                       3\n",
       "Director of Data Engineering                  2\n",
       "Cloud Data Engineer                           2\n",
       "Financial Data Analyst                        2\n",
       "Product Data Analyst                          2\n",
       "ETL Developer                                 2\n",
       "Principal Data Analyst                        2\n",
       "Lead Machine Learning Engineer                1\n",
       "NLP Engineer                                  1\n",
       "Head of Machine Learning                      1\n",
       "3D Computer Vision Researcher                 1\n",
       "Data Specialist                               1\n",
       "Staff Data Scientist                          1\n",
       "Big Data Architect                            1\n",
       "Finance Data Analyst                          1\n",
       "Marketing Data Analyst                        1\n",
       "Machine Learning Manager                      1\n",
       "Data Analytics Lead                           1\n",
       "Name: count, dtype: int64"
      ]
     },
     "execution_count": 58,
     "metadata": {},
     "output_type": "execute_result"
    }
   ],
   "source": [
    "# глянем на кол-во специалистов по ролям, которые участвуют в выборке\n",
    "data['job_title'].value_counts().sort_values(ascending=False)"
   ]
  },
  {
   "cell_type": "code",
   "execution_count": 59,
   "metadata": {},
   "outputs": [
    {
     "data": {
      "text/plain": [
       "job_title\n",
       "Other                        194\n",
       "Data Scientist               143\n",
       "Data Engineer                132\n",
       "Data Analyst                  97\n",
       "Machine Learning Engineer     41\n",
       "Name: count, dtype: int64"
      ]
     },
     "execution_count": 59,
     "metadata": {},
     "output_type": "execute_result"
    }
   ],
   "source": [
    "# ожидаемая картина, скинем всё что за рамками топ-4 в категорию \"other\". Но портить основной сэт не будем\n",
    "data_job_title_vision=data.copy()\n",
    "job_title_list={'Data Scientist', 'Data Engineer', 'Data Analyst', 'Machine Learning Engineer'} # выделим топ-4 в список \n",
    "data_job_title_vision['job_title']=data['job_title'].apply(lambda x: x if x in job_title_list else 'Other')\n",
    "# снова глянем как выглядит кол-во записей в зависимости от роли\n",
    "data_job_title_vision['job_title'].value_counts().sort_values(ascending=False)"
   ]
  },
  {
   "cell_type": "code",
   "execution_count": 60,
   "metadata": {},
   "outputs": [
    {
     "data": {
      "image/png": "[encoded data removed]",
      "text/plain": [
       "<Figure size 640x480 with 1 Axes>"
      ]
     },
     "metadata": {},
     "output_type": "display_data"
    }
   ],
   "source": [
    "# глянем рассматриваемый признак в модифицированном сэте с учётом зп\n",
    "ax=sns.boxplot(data_job_title_vision, x='salary_in_usd', y='job_title', orient='h', medianprops={\"color\": \"red\", \"linestyle\": \"--\"})\n",
    "ax.set(xlabel=\"ЗП\")\n",
    "ax.set(ylabel=\"Роль специалиста\")\n",
    "plt.title(\"Распределение зп среди занимаемых ролей\")\n",
    "plt.show()"
   ]
  },
  {
   "cell_type": "code",
   "execution_count": 62,
   "metadata": {},
   "outputs": [
    {
     "name": "stdout",
     "output_type": "stream",
     "text": [
      "Уровень зп в зависимости от роли\n"
     ]
    },
    {
     "data": {
      "text/html": [
       "<div>\n",
       "<style scoped>\n",
       "    .dataframe tbody tr th:only-of-type {\n",
       "        vertical-align: middle;\n",
       "    }\n",
       "\n",
       "    .dataframe tbody tr th {\n",
       "        vertical-align: top;\n",
       "    }\n",
       "\n",
       "    .dataframe thead th {\n",
       "        text-align: right;\n",
       "    }\n",
       "</style>\n",
       "<table border=\"1\" class=\"dataframe\">\n",
       "  <thead>\n",
       "    <tr style=\"text-align: right;\">\n",
       "      <th></th>\n",
       "      <th>count</th>\n",
       "      <th>mean</th>\n",
       "      <th>std</th>\n",
       "      <th>min</th>\n",
       "      <th>25%</th>\n",
       "      <th>50%</th>\n",
       "      <th>75%</th>\n",
       "      <th>max</th>\n",
       "    </tr>\n",
       "    <tr>\n",
       "      <th>job_title</th>\n",
       "      <th></th>\n",
       "      <th></th>\n",
       "      <th></th>\n",
       "      <th></th>\n",
       "      <th></th>\n",
       "      <th></th>\n",
       "      <th></th>\n",
       "      <th></th>\n",
       "    </tr>\n",
       "  </thead>\n",
       "  <tbody>\n",
       "    <tr>\n",
       "      <th>Other</th>\n",
       "      <td>194.0</td>\n",
       "      <td>126306.9</td>\n",
       "      <td>92180.3</td>\n",
       "      <td>5409.0</td>\n",
       "      <td>61041.8</td>\n",
       "      <td>110000.0</td>\n",
       "      <td>167968.8</td>\n",
       "      <td>600000.0</td>\n",
       "    </tr>\n",
       "    <tr>\n",
       "      <th>Data Scientist</th>\n",
       "      <td>143.0</td>\n",
       "      <td>108187.8</td>\n",
       "      <td>64112.8</td>\n",
       "      <td>2859.0</td>\n",
       "      <td>54724.0</td>\n",
       "      <td>103691.0</td>\n",
       "      <td>140850.0</td>\n",
       "      <td>412000.0</td>\n",
       "    </tr>\n",
       "    <tr>\n",
       "      <th>Data Engineer</th>\n",
       "      <td>132.0</td>\n",
       "      <td>112725.0</td>\n",
       "      <td>57629.1</td>\n",
       "      <td>4000.0</td>\n",
       "      <td>70039.5</td>\n",
       "      <td>105500.0</td>\n",
       "      <td>154600.0</td>\n",
       "      <td>324000.0</td>\n",
       "    </tr>\n",
       "    <tr>\n",
       "      <th>Data Analyst</th>\n",
       "      <td>97.0</td>\n",
       "      <td>92893.1</td>\n",
       "      <td>39961.1</td>\n",
       "      <td>6072.0</td>\n",
       "      <td>62000.0</td>\n",
       "      <td>90320.0</td>\n",
       "      <td>116150.0</td>\n",
       "      <td>200000.0</td>\n",
       "    </tr>\n",
       "    <tr>\n",
       "      <th>Machine Learning Engineer</th>\n",
       "      <td>41.0</td>\n",
       "      <td>104880.1</td>\n",
       "      <td>63218.6</td>\n",
       "      <td>20000.0</td>\n",
       "      <td>51064.0</td>\n",
       "      <td>87932.0</td>\n",
       "      <td>150000.0</td>\n",
       "      <td>250000.0</td>\n",
       "    </tr>\n",
       "  </tbody>\n",
       "</table>\n",
       "</div>"
      ],
      "text/plain": [
       "                           count      mean      std      min      25%  \\\n",
       "job_title                                                               \n",
       "Other                      194.0  126306.9  92180.3   5409.0  61041.8   \n",
       "Data Scientist             143.0  108187.8  64112.8   2859.0  54724.0   \n",
       "Data Engineer              132.0  112725.0  57629.1   4000.0  70039.5   \n",
       "Data Analyst                97.0   92893.1  39961.1   6072.0  62000.0   \n",
       "Machine Learning Engineer   41.0  104880.1  63218.6  20000.0  51064.0   \n",
       "\n",
       "                                50%       75%       max  \n",
       "job_title                                                \n",
       "Other                      110000.0  167968.8  600000.0  \n",
       "Data Scientist             103691.0  140850.0  412000.0  \n",
       "Data Engineer              105500.0  154600.0  324000.0  \n",
       "Data Analyst                90320.0  116150.0  200000.0  \n",
       "Machine Learning Engineer   87932.0  150000.0  250000.0  "
      ]
     },
     "execution_count": 62,
     "metadata": {},
     "output_type": "execute_result"
    }
   ],
   "source": [
    "data_job_title_vision_agg=data_job_title_vision.groupby('job_title')['salary_in_usd'].describe().round(1)\n",
    "print(\"Уровень зп в зависимости от роли\")\n",
    "data_job_title_vision_agg.sort_values(by='count', ascending=False)"
   ]
  },
  {
   "cell_type": "code",
   "execution_count": 63,
   "metadata": {},
   "outputs": [
    {
     "data": {
      "text/html": [
       "<div>\n",
       "<style scoped>\n",
       "    .dataframe tbody tr th:only-of-type {\n",
       "        vertical-align: middle;\n",
       "    }\n",
       "\n",
       "    .dataframe tbody tr th {\n",
       "        vertical-align: top;\n",
       "    }\n",
       "\n",
       "    .dataframe thead th {\n",
       "        text-align: right;\n",
       "    }\n",
       "</style>\n",
       "<table border=\"1\" class=\"dataframe\">\n",
       "  <thead>\n",
       "    <tr style=\"text-align: right;\">\n",
       "      <th></th>\n",
       "      <th>count</th>\n",
       "      <th>mean</th>\n",
       "      <th>std</th>\n",
       "      <th>min</th>\n",
       "      <th>25%</th>\n",
       "      <th>50%</th>\n",
       "      <th>75%</th>\n",
       "      <th>max</th>\n",
       "    </tr>\n",
       "    <tr>\n",
       "      <th>job_title</th>\n",
       "      <th></th>\n",
       "      <th></th>\n",
       "      <th></th>\n",
       "      <th></th>\n",
       "      <th></th>\n",
       "      <th></th>\n",
       "      <th></th>\n",
       "      <th></th>\n",
       "    </tr>\n",
       "  </thead>\n",
       "  <tbody>\n",
       "    <tr>\n",
       "      <th>Data Analyst</th>\n",
       "      <td>97.0</td>\n",
       "      <td>93.0</td>\n",
       "      <td>40.0</td>\n",
       "      <td>6.0</td>\n",
       "      <td>62.0</td>\n",
       "      <td>90.0</td>\n",
       "      <td>116.0</td>\n",
       "      <td>200.0</td>\n",
       "    </tr>\n",
       "    <tr>\n",
       "      <th>Data Engineer</th>\n",
       "      <td>132.0</td>\n",
       "      <td>113.0</td>\n",
       "      <td>58.0</td>\n",
       "      <td>4.0</td>\n",
       "      <td>70.0</td>\n",
       "      <td>106.0</td>\n",
       "      <td>155.0</td>\n",
       "      <td>324.0</td>\n",
       "    </tr>\n",
       "    <tr>\n",
       "      <th>Data Scientist</th>\n",
       "      <td>143.0</td>\n",
       "      <td>108.0</td>\n",
       "      <td>64.0</td>\n",
       "      <td>3.0</td>\n",
       "      <td>55.0</td>\n",
       "      <td>104.0</td>\n",
       "      <td>141.0</td>\n",
       "      <td>412.0</td>\n",
       "    </tr>\n",
       "    <tr>\n",
       "      <th>Machine Learning Engineer</th>\n",
       "      <td>41.0</td>\n",
       "      <td>105.0</td>\n",
       "      <td>63.0</td>\n",
       "      <td>20.0</td>\n",
       "      <td>51.0</td>\n",
       "      <td>88.0</td>\n",
       "      <td>150.0</td>\n",
       "      <td>250.0</td>\n",
       "    </tr>\n",
       "    <tr>\n",
       "      <th>Other</th>\n",
       "      <td>194.0</td>\n",
       "      <td>126.0</td>\n",
       "      <td>92.0</td>\n",
       "      <td>5.0</td>\n",
       "      <td>61.0</td>\n",
       "      <td>110.0</td>\n",
       "      <td>168.0</td>\n",
       "      <td>600.0</td>\n",
       "    </tr>\n",
       "  </tbody>\n",
       "</table>\n",
       "</div>"
      ],
      "text/plain": [
       "                           count   mean   std   min   25%    50%    75%    max\n",
       "job_title                                                                     \n",
       "Data Analyst                97.0   93.0  40.0   6.0  62.0   90.0  116.0  200.0\n",
       "Data Engineer              132.0  113.0  58.0   4.0  70.0  106.0  155.0  324.0\n",
       "Data Scientist             143.0  108.0  64.0   3.0  55.0  104.0  141.0  412.0\n",
       "Machine Learning Engineer   41.0  105.0  63.0  20.0  51.0   88.0  150.0  250.0\n",
       "Other                      194.0  126.0  92.0   5.0  61.0  110.0  168.0  600.0"
      ]
     },
     "execution_count": 63,
     "metadata": {},
     "output_type": "execute_result"
    }
   ],
   "source": [
    "# так же посмотрим на статистические данные, но перед этим решил привезти ЗП к знаменателю x/1000, сделал это потому что не понял как в дальнейшем в \n",
    "# тепловой карте настроить отображние ячеек для комфортного чтения =(((\n",
    "data_job_title_vision_1k=data_job_title_vision.copy()\n",
    "data_job_title_vision_1k['salary_in_usd']=data_job_title_vision['salary_in_usd'].apply(lambda x: x/1000)\n",
    "# статистические данные по признаку job_title\n",
    "data_job_title_vision_1k_agg=data_job_title_vision_1k.groupby('job_title')['salary_in_usd'].describe().round()\n",
    "data_job_title_vision_1k_agg"
   ]
  },
  {
   "cell_type": "code",
   "execution_count": 64,
   "metadata": {},
   "outputs": [
    {
     "data": {
      "text/plain": [
       "[Text(0.5, 44.249999999999986, 'Год'),\n",
       " Text(54.749999999999986, 0.5, 'Занимаемая должность/роль')]"
      ]
     },
     "execution_count": 64,
     "metadata": {},
     "output_type": "execute_result"
    },
    {
     "data": {
      "image/png": "[encoded data removed]",
      "text/plain": [
       "<Figure size 700x700 with 2 Axes>"
      ]
     },
     "metadata": {},
     "output_type": "display_data"
    }
   ],
   "source": [
    "# построим тепловую карту, в голове держим что данные по зп у нас это 1х1000:\n",
    "data_heatmap_job_title=pd.pivot_table(data_job_title_vision_1k, values='salary_in_usd', index='job_title', columns='work_year')\n",
    "fig, ax=plt.subplots(figsize=(7,7))\n",
    "ax=sns.heatmap(data_heatmap_job_title, linewidths=1, linecolor='black', annot=True, fmt=\"-.3g\", cmap='coolwarm')\n",
    "ax.set(xlabel=\"Год\", ylabel=\"Занимаемая должность/роль\")"
   ]
  },
  {
   "cell_type": "code",
   "execution_count": 72,
   "metadata": {},
   "outputs": [
    {
     "data": {
      "text/html": [
       "<div>\n",
       "<style scoped>\n",
       "    .dataframe tbody tr th:only-of-type {\n",
       "        vertical-align: middle;\n",
       "    }\n",
       "\n",
       "    .dataframe tbody tr th {\n",
       "        vertical-align: top;\n",
       "    }\n",
       "\n",
       "    .dataframe thead th {\n",
       "        text-align: right;\n",
       "    }\n",
       "</style>\n",
       "<table border=\"1\" class=\"dataframe\">\n",
       "  <thead>\n",
       "    <tr style=\"text-align: right;\">\n",
       "      <th></th>\n",
       "      <th>work_year</th>\n",
       "      <th>experience_level</th>\n",
       "      <th>employment_type</th>\n",
       "      <th>job_title</th>\n",
       "      <th>salary_in_usd</th>\n",
       "      <th>employee_residence</th>\n",
       "      <th>remote_ratio</th>\n",
       "      <th>company_location</th>\n",
       "      <th>company_size</th>\n",
       "    </tr>\n",
       "  </thead>\n",
       "  <tbody>\n",
       "    <tr>\n",
       "      <th>252</th>\n",
       "      <td>2021</td>\n",
       "      <td>EX</td>\n",
       "      <td>FT</td>\n",
       "      <td>Principal Data Engineer</td>\n",
       "      <td>600000</td>\n",
       "      <td>US</td>\n",
       "      <td>100</td>\n",
       "      <td>US</td>\n",
       "      <td>L</td>\n",
       "    </tr>\n",
       "  </tbody>\n",
       "</table>\n",
       "</div>"
      ],
      "text/plain": [
       "     work_year experience_level employment_type                job_title  \\\n",
       "252       2021               EX              FT  Principal Data Engineer   \n",
       "\n",
       "     salary_in_usd employee_residence  remote_ratio company_location  \\\n",
       "252         600000                 US           100               US   \n",
       "\n",
       "    company_size  \n",
       "252            L  "
      ]
     },
     "execution_count": 72,
     "metadata": {},
     "output_type": "execute_result"
    }
   ],
   "source": [
    "# решил глянуть позицию с максимальный уровенем зп(ранее мы уже узнали из описания что она max по признаку ЗП равен \"600000\")\n",
    "data.loc[data['salary_in_usd']==600000]"
   ]
  },
  {
   "attachments": {},
   "cell_type": "markdown",
   "metadata": {},
   "source": [
    "Предварительный вывод по признаку \"Занимаемая роль\": по категорим присутствуют выбросы, предварительно видно что зп с течением времени растет практически по всем нашим выделенным категориям ТОП-5, группа Other выбивается относительно остальных скорее всего из-за выбросов(тем более в её статистику вошел тот самый максимум с зп 600000 долларов)"
   ]
  },
  {
   "attachments": {},
   "cell_type": "markdown",
   "metadata": {},
   "source": [
    "### Смотрим признак \"Страна проэивания сотрудника\"(employee_residence)"
   ]
  },
  {
   "cell_type": "code",
   "execution_count": 73,
   "metadata": {},
   "outputs": [
    {
     "data": {
      "text/plain": [
       "employee_residence\n",
       "US    332\n",
       "GB     44\n",
       "IN     30\n",
       "CA     29\n",
       "DE     25\n",
       "FR     18\n",
       "ES     15\n",
       "GR     13\n",
       "JP      7\n",
       "PT      6\n",
       "BR      6\n",
       "PK      6\n",
       "NL      5\n",
       "PL      4\n",
       "IT      4\n",
       "RU      4\n",
       "AE      3\n",
       "AT      3\n",
       "VN      3\n",
       "TR      3\n",
       "AU      3\n",
       "RO      2\n",
       "BE      2\n",
       "SG      2\n",
       "SI      2\n",
       "DK      2\n",
       "HU      2\n",
       "NG      2\n",
       "MX      2\n",
       "BO      1\n",
       "MY      1\n",
       "TN      1\n",
       "IE      1\n",
       "DZ      1\n",
       "AR      1\n",
       "CZ      1\n",
       "JE      1\n",
       "LU      1\n",
       "PR      1\n",
       "RS      1\n",
       "EE      1\n",
       "CL      1\n",
       "HK      1\n",
       "KE      1\n",
       "MD      1\n",
       "CO      1\n",
       "IR      1\n",
       "CN      1\n",
       "MT      1\n",
       "UA      1\n",
       "IQ      1\n",
       "HN      1\n",
       "BG      1\n",
       "HR      1\n",
       "PH      1\n",
       "NZ      1\n",
       "CH      1\n",
       "Name: count, dtype: int64"
      ]
     },
     "execution_count": 73,
     "metadata": {},
     "output_type": "execute_result"
    }
   ],
   "source": [
    "# глянем на количество записей по каждой стране\n",
    "data['employee_residence'].value_counts()"
   ]
  },
  {
   "cell_type": "code",
   "execution_count": 74,
   "metadata": {},
   "outputs": [
    {
     "data": {
      "text/plain": [
       "employee_residence\n",
       "US       332\n",
       "Other    147\n",
       "GB        44\n",
       "IN        30\n",
       "CA        29\n",
       "DE        25\n",
       "Name: count, dtype: int64"
      ]
     },
     "execution_count": 74,
     "metadata": {},
     "output_type": "execute_result"
    }
   ],
   "source": [
    "# поступим тут как и с предыдущим признаком, выделим ТОП-5, остальных в \"Other\", но портить основной сэт не будем\n",
    "data_employee_residence_vision=data.copy()\n",
    "employee_residence_list={\"US\",\"GB\",\"IN\",\"CA\",\"DE\"} # список для выделения топ-5\n",
    "data_employee_residence_vision[\"employee_residence\"]=data[\"employee_residence\"].apply(lambda x: x if x in employee_residence_list else 'Other')\n",
    "# ну и глянем теперь на модифицированный сэт\n",
    "data_employee_residence_vision[\"employee_residence\"].value_counts(ascending=False)"
   ]
  },
  {
   "cell_type": "code",
   "execution_count": 75,
   "metadata": {},
   "outputs": [
    {
     "data": {
      "image/png": "[encoded data removed]",
      "text/plain": [
       "<Figure size 640x480 with 1 Axes>"
      ]
     },
     "metadata": {},
     "output_type": "display_data"
    }
   ],
   "source": [
    "# глянем рассматриваемый признак в модифицированном сэте с учётом зп\n",
    "ax=sns.boxplot(data_employee_residence_vision, x='salary_in_usd', y='employee_residence', orient=\"h\", medianprops={\"color\":\"red\", \"linestyle\":\"--\"})\n",
    "ax.set(xlabel=\"Зп\")\n",
    "ax.set(ylabel=\"Страна проживания сотрудника\")\n",
    "ax.set_title(\"Распределение ЗП в зависимости от локации специалиста\")\n",
    "plt.show()"
   ]
  },
  {
   "cell_type": "code",
   "execution_count": 79,
   "metadata": {},
   "outputs": [
    {
     "data": {
      "text/html": [
       "<div>\n",
       "<style scoped>\n",
       "    .dataframe tbody tr th:only-of-type {\n",
       "        vertical-align: middle;\n",
       "    }\n",
       "\n",
       "    .dataframe tbody tr th {\n",
       "        vertical-align: top;\n",
       "    }\n",
       "\n",
       "    .dataframe thead th {\n",
       "        text-align: right;\n",
       "    }\n",
       "</style>\n",
       "<table border=\"1\" class=\"dataframe\">\n",
       "  <thead>\n",
       "    <tr style=\"text-align: right;\">\n",
       "      <th></th>\n",
       "      <th>work_year</th>\n",
       "      <th>experience_level</th>\n",
       "      <th>employment_type</th>\n",
       "      <th>job_title</th>\n",
       "      <th>salary_in_usd</th>\n",
       "      <th>employee_residence</th>\n",
       "      <th>remote_ratio</th>\n",
       "      <th>company_location</th>\n",
       "      <th>company_size</th>\n",
       "    </tr>\n",
       "  </thead>\n",
       "  <tbody>\n",
       "    <tr>\n",
       "      <th>0</th>\n",
       "      <td>2020</td>\n",
       "      <td>MI</td>\n",
       "      <td>FT</td>\n",
       "      <td>Data Scientist</td>\n",
       "      <td>79.833</td>\n",
       "      <td>DE</td>\n",
       "      <td>0</td>\n",
       "      <td>DE</td>\n",
       "      <td>L</td>\n",
       "    </tr>\n",
       "    <tr>\n",
       "      <th>1</th>\n",
       "      <td>2020</td>\n",
       "      <td>SE</td>\n",
       "      <td>FT</td>\n",
       "      <td>Machine Learning Scientist</td>\n",
       "      <td>260.000</td>\n",
       "      <td>Other</td>\n",
       "      <td>0</td>\n",
       "      <td>JP</td>\n",
       "      <td>S</td>\n",
       "    </tr>\n",
       "    <tr>\n",
       "      <th>2</th>\n",
       "      <td>2020</td>\n",
       "      <td>SE</td>\n",
       "      <td>FT</td>\n",
       "      <td>Big Data Engineer</td>\n",
       "      <td>109.024</td>\n",
       "      <td>GB</td>\n",
       "      <td>50</td>\n",
       "      <td>GB</td>\n",
       "      <td>M</td>\n",
       "    </tr>\n",
       "    <tr>\n",
       "      <th>3</th>\n",
       "      <td>2020</td>\n",
       "      <td>MI</td>\n",
       "      <td>FT</td>\n",
       "      <td>Product Data Analyst</td>\n",
       "      <td>20.000</td>\n",
       "      <td>Other</td>\n",
       "      <td>0</td>\n",
       "      <td>HN</td>\n",
       "      <td>S</td>\n",
       "    </tr>\n",
       "    <tr>\n",
       "      <th>4</th>\n",
       "      <td>2020</td>\n",
       "      <td>SE</td>\n",
       "      <td>FT</td>\n",
       "      <td>Machine Learning Engineer</td>\n",
       "      <td>150.000</td>\n",
       "      <td>US</td>\n",
       "      <td>50</td>\n",
       "      <td>US</td>\n",
       "      <td>L</td>\n",
       "    </tr>\n",
       "    <tr>\n",
       "      <th>...</th>\n",
       "      <td>...</td>\n",
       "      <td>...</td>\n",
       "      <td>...</td>\n",
       "      <td>...</td>\n",
       "      <td>...</td>\n",
       "      <td>...</td>\n",
       "      <td>...</td>\n",
       "      <td>...</td>\n",
       "      <td>...</td>\n",
       "    </tr>\n",
       "    <tr>\n",
       "      <th>602</th>\n",
       "      <td>2022</td>\n",
       "      <td>SE</td>\n",
       "      <td>FT</td>\n",
       "      <td>Data Engineer</td>\n",
       "      <td>154.000</td>\n",
       "      <td>US</td>\n",
       "      <td>100</td>\n",
       "      <td>US</td>\n",
       "      <td>M</td>\n",
       "    </tr>\n",
       "    <tr>\n",
       "      <th>603</th>\n",
       "      <td>2022</td>\n",
       "      <td>SE</td>\n",
       "      <td>FT</td>\n",
       "      <td>Data Engineer</td>\n",
       "      <td>126.000</td>\n",
       "      <td>US</td>\n",
       "      <td>100</td>\n",
       "      <td>US</td>\n",
       "      <td>M</td>\n",
       "    </tr>\n",
       "    <tr>\n",
       "      <th>604</th>\n",
       "      <td>2022</td>\n",
       "      <td>SE</td>\n",
       "      <td>FT</td>\n",
       "      <td>Data Analyst</td>\n",
       "      <td>129.000</td>\n",
       "      <td>US</td>\n",
       "      <td>0</td>\n",
       "      <td>US</td>\n",
       "      <td>M</td>\n",
       "    </tr>\n",
       "    <tr>\n",
       "      <th>605</th>\n",
       "      <td>2022</td>\n",
       "      <td>SE</td>\n",
       "      <td>FT</td>\n",
       "      <td>Data Analyst</td>\n",
       "      <td>150.000</td>\n",
       "      <td>US</td>\n",
       "      <td>100</td>\n",
       "      <td>US</td>\n",
       "      <td>M</td>\n",
       "    </tr>\n",
       "    <tr>\n",
       "      <th>606</th>\n",
       "      <td>2022</td>\n",
       "      <td>MI</td>\n",
       "      <td>FT</td>\n",
       "      <td>AI Scientist</td>\n",
       "      <td>200.000</td>\n",
       "      <td>IN</td>\n",
       "      <td>100</td>\n",
       "      <td>US</td>\n",
       "      <td>L</td>\n",
       "    </tr>\n",
       "  </tbody>\n",
       "</table>\n",
       "<p>607 rows × 9 columns</p>\n",
       "</div>"
      ],
      "text/plain": [
       "     work_year experience_level employment_type                   job_title  \\\n",
       "0         2020               MI              FT              Data Scientist   \n",
       "1         2020               SE              FT  Machine Learning Scientist   \n",
       "2         2020               SE              FT           Big Data Engineer   \n",
       "3         2020               MI              FT        Product Data Analyst   \n",
       "4         2020               SE              FT   Machine Learning Engineer   \n",
       "..         ...              ...             ...                         ...   \n",
       "602       2022               SE              FT               Data Engineer   \n",
       "603       2022               SE              FT               Data Engineer   \n",
       "604       2022               SE              FT                Data Analyst   \n",
       "605       2022               SE              FT                Data Analyst   \n",
       "606       2022               MI              FT                AI Scientist   \n",
       "\n",
       "     salary_in_usd employee_residence  remote_ratio company_location  \\\n",
       "0           79.833                 DE             0               DE   \n",
       "1          260.000              Other             0               JP   \n",
       "2          109.024                 GB            50               GB   \n",
       "3           20.000              Other             0               HN   \n",
       "4          150.000                 US            50               US   \n",
       "..             ...                ...           ...              ...   \n",
       "602        154.000                 US           100               US   \n",
       "603        126.000                 US           100               US   \n",
       "604        129.000                 US             0               US   \n",
       "605        150.000                 US           100               US   \n",
       "606        200.000                 IN           100               US   \n",
       "\n",
       "    company_size  \n",
       "0              L  \n",
       "1              S  \n",
       "2              M  \n",
       "3              S  \n",
       "4              L  \n",
       "..           ...  \n",
       "602            M  \n",
       "603            M  \n",
       "604            M  \n",
       "605            M  \n",
       "606            L  \n",
       "\n",
       "[607 rows x 9 columns]"
      ]
     },
     "execution_count": 79,
     "metadata": {},
     "output_type": "execute_result"
    }
   ],
   "source": [
    "# ну и снова приведем зп к знаменателю x/1000\n",
    "data_employee_residence_vision_1k=data_employee_residence_vision.copy()\n",
    "data_employee_residence_vision_1k['salary_in_usd']=data_employee_residence_vision[\"salary_in_usd\"].apply(lambda x:x/1000)\n",
    "data_employee_residence_vision_1k\n",
    "# смотрим что получилось далее"
   ]
  },
  {
   "cell_type": "code",
   "execution_count": 81,
   "metadata": {},
   "outputs": [
    {
     "name": "stdout",
     "output_type": "stream",
     "text": [
      "Зп в зависимости от локации специалиста\n"
     ]
    },
    {
     "data": {
      "text/html": [
       "<div>\n",
       "<style scoped>\n",
       "    .dataframe tbody tr th:only-of-type {\n",
       "        vertical-align: middle;\n",
       "    }\n",
       "\n",
       "    .dataframe tbody tr th {\n",
       "        vertical-align: top;\n",
       "    }\n",
       "\n",
       "    .dataframe thead th {\n",
       "        text-align: right;\n",
       "    }\n",
       "</style>\n",
       "<table border=\"1\" class=\"dataframe\">\n",
       "  <thead>\n",
       "    <tr style=\"text-align: right;\">\n",
       "      <th></th>\n",
       "      <th>count</th>\n",
       "      <th>mean</th>\n",
       "      <th>std</th>\n",
       "      <th>min</th>\n",
       "      <th>25%</th>\n",
       "      <th>50%</th>\n",
       "      <th>75%</th>\n",
       "      <th>max</th>\n",
       "    </tr>\n",
       "    <tr>\n",
       "      <th>employee_residence</th>\n",
       "      <th></th>\n",
       "      <th></th>\n",
       "      <th></th>\n",
       "      <th></th>\n",
       "      <th></th>\n",
       "      <th></th>\n",
       "      <th></th>\n",
       "      <th></th>\n",
       "    </tr>\n",
       "  </thead>\n",
       "  <tbody>\n",
       "    <tr>\n",
       "      <th>CA</th>\n",
       "      <td>29.0</td>\n",
       "      <td>97.1</td>\n",
       "      <td>39.8</td>\n",
       "      <td>52.0</td>\n",
       "      <td>70.9</td>\n",
       "      <td>85.0</td>\n",
       "      <td>117.1</td>\n",
       "      <td>197.0</td>\n",
       "    </tr>\n",
       "    <tr>\n",
       "      <th>DE</th>\n",
       "      <td>25.0</td>\n",
       "      <td>85.6</td>\n",
       "      <td>39.4</td>\n",
       "      <td>16.0</td>\n",
       "      <td>62.7</td>\n",
       "      <td>79.2</td>\n",
       "      <td>94.6</td>\n",
       "      <td>173.8</td>\n",
       "    </tr>\n",
       "    <tr>\n",
       "      <th>GB</th>\n",
       "      <td>44.0</td>\n",
       "      <td>81.4</td>\n",
       "      <td>29.9</td>\n",
       "      <td>37.3</td>\n",
       "      <td>55.8</td>\n",
       "      <td>78.5</td>\n",
       "      <td>103.5</td>\n",
       "      <td>183.2</td>\n",
       "    </tr>\n",
       "    <tr>\n",
       "      <th>IN</th>\n",
       "      <td>30.0</td>\n",
       "      <td>37.3</td>\n",
       "      <td>43.7</td>\n",
       "      <td>5.4</td>\n",
       "      <td>16.4</td>\n",
       "      <td>22.1</td>\n",
       "      <td>38.8</td>\n",
       "      <td>200.0</td>\n",
       "    </tr>\n",
       "    <tr>\n",
       "      <th>Other</th>\n",
       "      <td>147.0</td>\n",
       "      <td>61.1</td>\n",
       "      <td>42.1</td>\n",
       "      <td>2.9</td>\n",
       "      <td>34.6</td>\n",
       "      <td>53.2</td>\n",
       "      <td>77.2</td>\n",
       "      <td>260.0</td>\n",
       "    </tr>\n",
       "    <tr>\n",
       "      <th>US</th>\n",
       "      <td>332.0</td>\n",
       "      <td>149.2</td>\n",
       "      <td>68.3</td>\n",
       "      <td>25.0</td>\n",
       "      <td>105.8</td>\n",
       "      <td>138.5</td>\n",
       "      <td>175.0</td>\n",
       "      <td>600.0</td>\n",
       "    </tr>\n",
       "  </tbody>\n",
       "</table>\n",
       "</div>"
      ],
      "text/plain": [
       "                    count   mean   std   min    25%    50%    75%    max\n",
       "employee_residence                                                      \n",
       "CA                   29.0   97.1  39.8  52.0   70.9   85.0  117.1  197.0\n",
       "DE                   25.0   85.6  39.4  16.0   62.7   79.2   94.6  173.8\n",
       "GB                   44.0   81.4  29.9  37.3   55.8   78.5  103.5  183.2\n",
       "IN                   30.0   37.3  43.7   5.4   16.4   22.1   38.8  200.0\n",
       "Other               147.0   61.1  42.1   2.9   34.6   53.2   77.2  260.0\n",
       "US                  332.0  149.2  68.3  25.0  105.8  138.5  175.0  600.0"
      ]
     },
     "execution_count": 81,
     "metadata": {},
     "output_type": "execute_result"
    }
   ],
   "source": [
    "# посмотрим на зп в зависимости от локации специалиста\n",
    "data_employee_residence_vision_1k_agg=data_employee_residence_vision_1k.groupby(\"employee_residence\")[\"salary_in_usd\"].describe().round(1)\n",
    "print(\"Зп в зависимости от локации специалиста\")\n",
    "data_employee_residence_vision_1k_agg"
   ]
  },
  {
   "cell_type": "code",
   "execution_count": 82,
   "metadata": {},
   "outputs": [
    {
     "data": {
      "text/plain": [
       "[Text(0.5, 44.249999999999986, 'Год'),\n",
       " Text(54.75, 0.5, 'Локация сотрудника/страна проживания')]"
      ]
     },
     "execution_count": 82,
     "metadata": {},
     "output_type": "execute_result"
    },
    {
     "data": {
      "image/png": "[encoded data removed]",
      "text/plain": [
       "<Figure size 700x700 with 2 Axes>"
      ]
     },
     "metadata": {},
     "output_type": "display_data"
    }
   ],
   "source": [
    "# телловая карта для признака по проживанию сотрудника, ЗП уже приведена к знаменателю x/1000 и отсортировна по топ-5\n",
    "data_heatmap_employee_residence=pd.pivot_table(data_employee_residence_vision_1k, values='salary_in_usd', index='employee_residence', columns='work_year')\n",
    "fig, ax=plt.subplots(figsize=(7,7))\n",
    "ax=sns.heatmap(data_heatmap_employee_residence, linewidths=1, linecolor='black', annot=True, fmt=\"-.3g\", cmap='coolwarm')\n",
    "ax.set(xlabel=\"Год\", ylabel=\"Локация сотрудника/страна проживания\")"
   ]
  },
  {
   "attachments": {},
   "cell_type": "markdown",
   "metadata": {},
   "source": [
    "Предварительный вывод: очень забавная картина - в странах-лидерах GB и CA, в период 2020-2022 наблюдается отрицательная динамика по зп, в то время как в странах IN и DE зп плавно возросла(в IN она возрасла в арифметической прогрессии). В осатльном же мире по зп наблюдается почти \"штиль\" с течением времени. Это картина является диаметрально-противоположной предыдущей тепловой карте...что наталкивает на интересную мысль: **с течением времени зп в US и CA падала потому что появлялось всё больше специалистов с малым опытом работы, соответсвенно и зп у них была не высокая, поэтому это сильно влияло на общую статистику по зп в US**"
   ]
  },
  {
   "attachments": {},
   "cell_type": "markdown",
   "metadata": {},
   "source": [
    "### Смотрим признак \"Объем работы выполняемый удаленно\"(remote_ratio)"
   ]
  },
  {
   "cell_type": "code",
   "execution_count": 85,
   "metadata": {},
   "outputs": [
    {
     "data": {
      "text/plain": [
       "remote_ratio\n",
       "100    381\n",
       "0      127\n",
       "50      99\n",
       "Name: count, dtype: int64"
      ]
     },
     "execution_count": 85,
     "metadata": {},
     "output_type": "execute_result"
    }
   ],
   "source": [
    "# посмотрим количество записей по категориям\n",
    "data['remote_ratio'].value_counts()"
   ]
  },
  {
   "cell_type": "code",
   "execution_count": 88,
   "metadata": {},
   "outputs": [
    {
     "data": {
      "text/plain": [
       "Text(0, 0.5, 'Кол-во записей')"
      ]
     },
     "execution_count": 88,
     "metadata": {},
     "output_type": "execute_result"
    },
    {
     "data": {
      "image/png": "[encoded data removed]",
      "text/plain": [
       "<Figure size 640x480 with 1 Axes>"
      ]
     },
     "metadata": {},
     "output_type": "display_data"
    }
   ],
   "source": [
    "# чтобы в памяти не держать эти числа, нанесем на могучие колонки данное инфо\n",
    "data['remote_ratio'].value_counts().plot.bar(color=\"g\")\n",
    "plt.title(\"Кол-во записей в сете относительно уровня выполняемой работы удаленно\")\n",
    "plt.xlabel(\"Объем работы выполняемый удаленно\")\n",
    "plt.ylabel(\"Кол-во записей\")"
   ]
  },
  {
   "cell_type": "code",
   "execution_count": 29,
   "metadata": {},
   "outputs": [
    {
     "data": {
      "image/png": "[encoded data removed]",
      "text/plain": [
       "<Figure size 640x480 with 1 Axes>"
      ]
     },
     "metadata": {},
     "output_type": "display_data"
    }
   ],
   "source": [
    "# посмотрим на этот признак с учётом зп\n",
    "ax=sns.boxplot(data, x='salary_in_usd', y='remote_ratio', orient=\"h\", medianprops={\"color\":\"red\", \"linestyle\":\"--\"})\n",
    "ax.set(xlabel=\"Зп\")\n",
    "ax.set(ylabel=\"Объем работы, выполняемый удаленно\")\n",
    "ax.set_title(\"Распределение ЗП в зависимости объема работы, выполняемого удаленно\")\n",
    "plt.show()"
   ]
  },
  {
   "cell_type": "code",
   "execution_count": 30,
   "metadata": {},
   "outputs": [
    {
     "name": "stdout",
     "output_type": "stream",
     "text": [
      "Уровень зп в зависимости от объема работ, выполняемого удаленно\n"
     ]
    },
    {
     "data": {
      "text/html": [
       "<div>\n",
       "<style scoped>\n",
       "    .dataframe tbody tr th:only-of-type {\n",
       "        vertical-align: middle;\n",
       "    }\n",
       "\n",
       "    .dataframe tbody tr th {\n",
       "        vertical-align: top;\n",
       "    }\n",
       "\n",
       "    .dataframe thead th {\n",
       "        text-align: right;\n",
       "    }\n",
       "</style>\n",
       "<table border=\"1\" class=\"dataframe\">\n",
       "  <thead>\n",
       "    <tr style=\"text-align: right;\">\n",
       "      <th></th>\n",
       "      <th>count</th>\n",
       "      <th>mean</th>\n",
       "      <th>std</th>\n",
       "      <th>min</th>\n",
       "      <th>25%</th>\n",
       "      <th>50%</th>\n",
       "      <th>75%</th>\n",
       "      <th>max</th>\n",
       "    </tr>\n",
       "    <tr>\n",
       "      <th>remote_ratio</th>\n",
       "      <th></th>\n",
       "      <th></th>\n",
       "      <th></th>\n",
       "      <th></th>\n",
       "      <th></th>\n",
       "      <th></th>\n",
       "      <th></th>\n",
       "      <th></th>\n",
       "    </tr>\n",
       "  </thead>\n",
       "  <tbody>\n",
       "    <tr>\n",
       "      <th>100</th>\n",
       "      <td>381.0</td>\n",
       "      <td>122457.5</td>\n",
       "      <td>72710.8</td>\n",
       "      <td>4000.0</td>\n",
       "      <td>75774.0</td>\n",
       "      <td>115000.0</td>\n",
       "      <td>160000.0</td>\n",
       "      <td>600000.0</td>\n",
       "    </tr>\n",
       "    <tr>\n",
       "      <th>0</th>\n",
       "      <td>127.0</td>\n",
       "      <td>106354.6</td>\n",
       "      <td>67724.5</td>\n",
       "      <td>2859.0</td>\n",
       "      <td>60000.0</td>\n",
       "      <td>99000.0</td>\n",
       "      <td>140400.0</td>\n",
       "      <td>450000.0</td>\n",
       "    </tr>\n",
       "    <tr>\n",
       "      <th>50</th>\n",
       "      <td>99.0</td>\n",
       "      <td>80823.0</td>\n",
       "      <td>57353.1</td>\n",
       "      <td>5409.0</td>\n",
       "      <td>50355.0</td>\n",
       "      <td>69999.0</td>\n",
       "      <td>99851.5</td>\n",
       "      <td>423000.0</td>\n",
       "    </tr>\n",
       "  </tbody>\n",
       "</table>\n",
       "</div>"
      ],
      "text/plain": [
       "              count      mean      std     min      25%       50%       75%  \\\n",
       "remote_ratio                                                                  \n",
       "100           381.0  122457.5  72710.8  4000.0  75774.0  115000.0  160000.0   \n",
       "0             127.0  106354.6  67724.5  2859.0  60000.0   99000.0  140400.0   \n",
       "50             99.0   80823.0  57353.1  5409.0  50355.0   69999.0   99851.5   \n",
       "\n",
       "                   max  \n",
       "remote_ratio            \n",
       "100           600000.0  \n",
       "0             450000.0  \n",
       "50            423000.0  "
      ]
     },
     "execution_count": 30,
     "metadata": {},
     "output_type": "execute_result"
    }
   ],
   "source": [
    "data_remote_ratio_agg=data.groupby(\"remote_ratio\")[\"salary_in_usd\"].describe().round(1)\n",
    "print(\"Уровень зп в зависимости от объема работ, выполняемого удаленно\")\n",
    "data_remote_ratio_agg.sort_values(by='count', ascending=False)"
   ]
  },
  {
   "attachments": {},
   "cell_type": "markdown",
   "metadata": {},
   "source": [
    "Предварительный вывод: выбросы присутствуют по всем группам, в целом интересная картина - пока что считаем что удаленная работа особо не влияет на ЗП"
   ]
  },
  {
   "attachments": {},
   "cell_type": "markdown",
   "metadata": {},
   "source": [
    "### Смотрим признак \"Страна главного офиса/филиала компании\"(company_location)"
   ]
  },
  {
   "cell_type": "code",
   "execution_count": 89,
   "metadata": {},
   "outputs": [
    {
     "data": {
      "text/plain": [
       "company_location\n",
       "US    355\n",
       "GB     47\n",
       "CA     30\n",
       "DE     28\n",
       "IN     24\n",
       "FR     15\n",
       "ES     14\n",
       "GR     11\n",
       "JP      6\n",
       "NL      4\n",
       "AT      4\n",
       "PT      4\n",
       "PL      4\n",
       "LU      3\n",
       "PK      3\n",
       "BR      3\n",
       "AE      3\n",
       "MX      3\n",
       "AU      3\n",
       "TR      3\n",
       "DK      3\n",
       "IT      2\n",
       "CZ      2\n",
       "SI      2\n",
       "RU      2\n",
       "CH      2\n",
       "NG      2\n",
       "CN      2\n",
       "BE      2\n",
       "VN      1\n",
       "EE      1\n",
       "AS      1\n",
       "DZ      1\n",
       "MY      1\n",
       "MD      1\n",
       "KE      1\n",
       "SG      1\n",
       "CO      1\n",
       "IR      1\n",
       "CL      1\n",
       "MT      1\n",
       "IL      1\n",
       "UA      1\n",
       "IQ      1\n",
       "RO      1\n",
       "HR      1\n",
       "NZ      1\n",
       "HU      1\n",
       "HN      1\n",
       "IE      1\n",
       "Name: count, dtype: int64"
      ]
     },
     "execution_count": 89,
     "metadata": {},
     "output_type": "execute_result"
    }
   ],
   "source": [
    "# глянем на кол-во записей по группам\n",
    "data['company_location'].value_counts()"
   ]
  },
  {
   "cell_type": "code",
   "execution_count": 91,
   "metadata": {},
   "outputs": [
    {
     "data": {
      "text/plain": [
       "company_location\n",
       "US       355\n",
       "Other    123\n",
       "GB        47\n",
       "CA        30\n",
       "DE        28\n",
       "IN        24\n",
       "Name: count, dtype: int64"
      ]
     },
     "execution_count": 91,
     "metadata": {},
     "output_type": "execute_result"
    }
   ],
   "source": [
    "# снова выделим топ-стран, остальных в \"Other\", но не в основном датасете\n",
    "data_company_location_vision=data.copy()\n",
    "company_location_list={\"US\",\"DE\",\"IN\",\"CA\",\"GB\"} # список топ-стран\n",
    "data_company_location_vision[\"company_location\"]=data[\"company_location\"].apply(lambda x: x if x in company_location_list else \"Other\")\n",
    "# ну и глянем как это выглядит\n",
    "data_company_location_vision[\"company_location\"].value_counts()"
   ]
  },
  {
   "cell_type": "code",
   "execution_count": 92,
   "metadata": {},
   "outputs": [
    {
     "name": "stdout",
     "output_type": "stream",
     "text": [
      "Зп в зависимости от локации компании\n"
     ]
    },
    {
     "data": {
      "text/html": [
       "<div>\n",
       "<style scoped>\n",
       "    .dataframe tbody tr th:only-of-type {\n",
       "        vertical-align: middle;\n",
       "    }\n",
       "\n",
       "    .dataframe tbody tr th {\n",
       "        vertical-align: top;\n",
       "    }\n",
       "\n",
       "    .dataframe thead th {\n",
       "        text-align: right;\n",
       "    }\n",
       "</style>\n",
       "<table border=\"1\" class=\"dataframe\">\n",
       "  <thead>\n",
       "    <tr style=\"text-align: right;\">\n",
       "      <th></th>\n",
       "      <th>count</th>\n",
       "      <th>mean</th>\n",
       "      <th>std</th>\n",
       "      <th>min</th>\n",
       "      <th>25%</th>\n",
       "      <th>50%</th>\n",
       "      <th>75%</th>\n",
       "      <th>max</th>\n",
       "    </tr>\n",
       "    <tr>\n",
       "      <th>company_location</th>\n",
       "      <th></th>\n",
       "      <th></th>\n",
       "      <th></th>\n",
       "      <th></th>\n",
       "      <th></th>\n",
       "      <th></th>\n",
       "      <th></th>\n",
       "      <th></th>\n",
       "    </tr>\n",
       "  </thead>\n",
       "  <tbody>\n",
       "    <tr>\n",
       "      <th>US</th>\n",
       "      <td>355.0</td>\n",
       "      <td>144055.3</td>\n",
       "      <td>69906.9</td>\n",
       "      <td>5679.0</td>\n",
       "      <td>100000.0</td>\n",
       "      <td>135000.0</td>\n",
       "      <td>170000.0</td>\n",
       "      <td>600000.0</td>\n",
       "    </tr>\n",
       "    <tr>\n",
       "      <th>Other</th>\n",
       "      <td>123.0</td>\n",
       "      <td>58677.0</td>\n",
       "      <td>41560.4</td>\n",
       "      <td>2859.0</td>\n",
       "      <td>32974.0</td>\n",
       "      <td>50180.0</td>\n",
       "      <td>75535.0</td>\n",
       "      <td>260000.0</td>\n",
       "    </tr>\n",
       "    <tr>\n",
       "      <th>GB</th>\n",
       "      <td>47.0</td>\n",
       "      <td>81583.0</td>\n",
       "      <td>29524.0</td>\n",
       "      <td>37300.0</td>\n",
       "      <td>57575.0</td>\n",
       "      <td>78526.0</td>\n",
       "      <td>103931.0</td>\n",
       "      <td>183228.0</td>\n",
       "    </tr>\n",
       "    <tr>\n",
       "      <th>CA</th>\n",
       "      <td>30.0</td>\n",
       "      <td>99823.7</td>\n",
       "      <td>46329.1</td>\n",
       "      <td>52000.0</td>\n",
       "      <td>69730.0</td>\n",
       "      <td>81895.5</td>\n",
       "      <td>117916.2</td>\n",
       "      <td>225000.0</td>\n",
       "    </tr>\n",
       "    <tr>\n",
       "      <th>DE</th>\n",
       "      <td>28.0</td>\n",
       "      <td>81887.2</td>\n",
       "      <td>39195.9</td>\n",
       "      <td>15966.0</td>\n",
       "      <td>58986.0</td>\n",
       "      <td>78015.0</td>\n",
       "      <td>90734.0</td>\n",
       "      <td>173762.0</td>\n",
       "    </tr>\n",
       "    <tr>\n",
       "      <th>IN</th>\n",
       "      <td>24.0</td>\n",
       "      <td>28581.8</td>\n",
       "      <td>22697.7</td>\n",
       "      <td>5409.0</td>\n",
       "      <td>16735.0</td>\n",
       "      <td>22124.0</td>\n",
       "      <td>32163.2</td>\n",
       "      <td>94665.0</td>\n",
       "    </tr>\n",
       "  </tbody>\n",
       "</table>\n",
       "</div>"
      ],
      "text/plain": [
       "                  count      mean      std      min       25%       50%  \\\n",
       "company_location                                                          \n",
       "US                355.0  144055.3  69906.9   5679.0  100000.0  135000.0   \n",
       "Other             123.0   58677.0  41560.4   2859.0   32974.0   50180.0   \n",
       "GB                 47.0   81583.0  29524.0  37300.0   57575.0   78526.0   \n",
       "CA                 30.0   99823.7  46329.1  52000.0   69730.0   81895.5   \n",
       "DE                 28.0   81887.2  39195.9  15966.0   58986.0   78015.0   \n",
       "IN                 24.0   28581.8  22697.7   5409.0   16735.0   22124.0   \n",
       "\n",
       "                       75%       max  \n",
       "company_location                      \n",
       "US                170000.0  600000.0  \n",
       "Other              75535.0  260000.0  \n",
       "GB                103931.0  183228.0  \n",
       "CA                117916.2  225000.0  \n",
       "DE                 90734.0  173762.0  \n",
       "IN                 32163.2   94665.0  "
      ]
     },
     "execution_count": 92,
     "metadata": {},
     "output_type": "execute_result"
    }
   ],
   "source": [
    "# глянем на наш топ-6 в зависимости от зп\n",
    "data_company_location=data_company_location_vision.groupby(\"company_location\")[\"salary_in_usd\"].describe().round(1)\n",
    "print(\"Зп в зависимости от локации компании\")\n",
    "data_company_location.sort_values(by=\"count\", ascending=False)"
   ]
  },
  {
   "cell_type": "code",
   "execution_count": 93,
   "metadata": {},
   "outputs": [
    {
     "data": {
      "text/html": [
       "<div>\n",
       "<style scoped>\n",
       "    .dataframe tbody tr th:only-of-type {\n",
       "        vertical-align: middle;\n",
       "    }\n",
       "\n",
       "    .dataframe tbody tr th {\n",
       "        vertical-align: top;\n",
       "    }\n",
       "\n",
       "    .dataframe thead th {\n",
       "        text-align: right;\n",
       "    }\n",
       "</style>\n",
       "<table border=\"1\" class=\"dataframe\">\n",
       "  <thead>\n",
       "    <tr style=\"text-align: right;\">\n",
       "      <th></th>\n",
       "      <th>work_year</th>\n",
       "      <th>experience_level</th>\n",
       "      <th>employment_type</th>\n",
       "      <th>job_title</th>\n",
       "      <th>salary_in_usd</th>\n",
       "      <th>employee_residence</th>\n",
       "      <th>remote_ratio</th>\n",
       "      <th>company_location</th>\n",
       "      <th>company_size</th>\n",
       "    </tr>\n",
       "  </thead>\n",
       "  <tbody>\n",
       "    <tr>\n",
       "      <th>0</th>\n",
       "      <td>2020</td>\n",
       "      <td>MI</td>\n",
       "      <td>FT</td>\n",
       "      <td>Data Scientist</td>\n",
       "      <td>79.833</td>\n",
       "      <td>DE</td>\n",
       "      <td>0</td>\n",
       "      <td>DE</td>\n",
       "      <td>L</td>\n",
       "    </tr>\n",
       "    <tr>\n",
       "      <th>1</th>\n",
       "      <td>2020</td>\n",
       "      <td>SE</td>\n",
       "      <td>FT</td>\n",
       "      <td>Machine Learning Scientist</td>\n",
       "      <td>260.000</td>\n",
       "      <td>JP</td>\n",
       "      <td>0</td>\n",
       "      <td>Other</td>\n",
       "      <td>S</td>\n",
       "    </tr>\n",
       "    <tr>\n",
       "      <th>2</th>\n",
       "      <td>2020</td>\n",
       "      <td>SE</td>\n",
       "      <td>FT</td>\n",
       "      <td>Big Data Engineer</td>\n",
       "      <td>109.024</td>\n",
       "      <td>GB</td>\n",
       "      <td>50</td>\n",
       "      <td>GB</td>\n",
       "      <td>M</td>\n",
       "    </tr>\n",
       "    <tr>\n",
       "      <th>3</th>\n",
       "      <td>2020</td>\n",
       "      <td>MI</td>\n",
       "      <td>FT</td>\n",
       "      <td>Product Data Analyst</td>\n",
       "      <td>20.000</td>\n",
       "      <td>HN</td>\n",
       "      <td>0</td>\n",
       "      <td>Other</td>\n",
       "      <td>S</td>\n",
       "    </tr>\n",
       "    <tr>\n",
       "      <th>4</th>\n",
       "      <td>2020</td>\n",
       "      <td>SE</td>\n",
       "      <td>FT</td>\n",
       "      <td>Machine Learning Engineer</td>\n",
       "      <td>150.000</td>\n",
       "      <td>US</td>\n",
       "      <td>50</td>\n",
       "      <td>US</td>\n",
       "      <td>L</td>\n",
       "    </tr>\n",
       "    <tr>\n",
       "      <th>...</th>\n",
       "      <td>...</td>\n",
       "      <td>...</td>\n",
       "      <td>...</td>\n",
       "      <td>...</td>\n",
       "      <td>...</td>\n",
       "      <td>...</td>\n",
       "      <td>...</td>\n",
       "      <td>...</td>\n",
       "      <td>...</td>\n",
       "    </tr>\n",
       "    <tr>\n",
       "      <th>602</th>\n",
       "      <td>2022</td>\n",
       "      <td>SE</td>\n",
       "      <td>FT</td>\n",
       "      <td>Data Engineer</td>\n",
       "      <td>154.000</td>\n",
       "      <td>US</td>\n",
       "      <td>100</td>\n",
       "      <td>US</td>\n",
       "      <td>M</td>\n",
       "    </tr>\n",
       "    <tr>\n",
       "      <th>603</th>\n",
       "      <td>2022</td>\n",
       "      <td>SE</td>\n",
       "      <td>FT</td>\n",
       "      <td>Data Engineer</td>\n",
       "      <td>126.000</td>\n",
       "      <td>US</td>\n",
       "      <td>100</td>\n",
       "      <td>US</td>\n",
       "      <td>M</td>\n",
       "    </tr>\n",
       "    <tr>\n",
       "      <th>604</th>\n",
       "      <td>2022</td>\n",
       "      <td>SE</td>\n",
       "      <td>FT</td>\n",
       "      <td>Data Analyst</td>\n",
       "      <td>129.000</td>\n",
       "      <td>US</td>\n",
       "      <td>0</td>\n",
       "      <td>US</td>\n",
       "      <td>M</td>\n",
       "    </tr>\n",
       "    <tr>\n",
       "      <th>605</th>\n",
       "      <td>2022</td>\n",
       "      <td>SE</td>\n",
       "      <td>FT</td>\n",
       "      <td>Data Analyst</td>\n",
       "      <td>150.000</td>\n",
       "      <td>US</td>\n",
       "      <td>100</td>\n",
       "      <td>US</td>\n",
       "      <td>M</td>\n",
       "    </tr>\n",
       "    <tr>\n",
       "      <th>606</th>\n",
       "      <td>2022</td>\n",
       "      <td>MI</td>\n",
       "      <td>FT</td>\n",
       "      <td>AI Scientist</td>\n",
       "      <td>200.000</td>\n",
       "      <td>IN</td>\n",
       "      <td>100</td>\n",
       "      <td>US</td>\n",
       "      <td>L</td>\n",
       "    </tr>\n",
       "  </tbody>\n",
       "</table>\n",
       "<p>607 rows × 9 columns</p>\n",
       "</div>"
      ],
      "text/plain": [
       "     work_year experience_level employment_type                   job_title  \\\n",
       "0         2020               MI              FT              Data Scientist   \n",
       "1         2020               SE              FT  Machine Learning Scientist   \n",
       "2         2020               SE              FT           Big Data Engineer   \n",
       "3         2020               MI              FT        Product Data Analyst   \n",
       "4         2020               SE              FT   Machine Learning Engineer   \n",
       "..         ...              ...             ...                         ...   \n",
       "602       2022               SE              FT               Data Engineer   \n",
       "603       2022               SE              FT               Data Engineer   \n",
       "604       2022               SE              FT                Data Analyst   \n",
       "605       2022               SE              FT                Data Analyst   \n",
       "606       2022               MI              FT                AI Scientist   \n",
       "\n",
       "     salary_in_usd employee_residence  remote_ratio company_location  \\\n",
       "0           79.833                 DE             0               DE   \n",
       "1          260.000                 JP             0            Other   \n",
       "2          109.024                 GB            50               GB   \n",
       "3           20.000                 HN             0            Other   \n",
       "4          150.000                 US            50               US   \n",
       "..             ...                ...           ...              ...   \n",
       "602        154.000                 US           100               US   \n",
       "603        126.000                 US           100               US   \n",
       "604        129.000                 US             0               US   \n",
       "605        150.000                 US           100               US   \n",
       "606        200.000                 IN           100               US   \n",
       "\n",
       "    company_size  \n",
       "0              L  \n",
       "1              S  \n",
       "2              M  \n",
       "3              S  \n",
       "4              L  \n",
       "..           ...  \n",
       "602            M  \n",
       "603            M  \n",
       "604            M  \n",
       "605            M  \n",
       "606            L  \n",
       "\n",
       "[607 rows x 9 columns]"
      ]
     },
     "execution_count": 93,
     "metadata": {},
     "output_type": "execute_result"
    }
   ],
   "source": [
    "# ну и снова приведем зп к знаменателю x/1000\n",
    "data_company_location_vision_1k=data_company_location_vision.copy()\n",
    "data_company_location_vision_1k['salary_in_usd']=data_company_location_vision[\"salary_in_usd\"].apply(lambda x:x/1000)\n",
    "data_company_location_vision_1k\n",
    "# смотрим что получилось далее"
   ]
  },
  {
   "cell_type": "code",
   "execution_count": 94,
   "metadata": {},
   "outputs": [
    {
     "name": "stdout",
     "output_type": "stream",
     "text": [
      "Зп в зависимости от локации компании\n"
     ]
    },
    {
     "data": {
      "text/html": [
       "<div>\n",
       "<style scoped>\n",
       "    .dataframe tbody tr th:only-of-type {\n",
       "        vertical-align: middle;\n",
       "    }\n",
       "\n",
       "    .dataframe tbody tr th {\n",
       "        vertical-align: top;\n",
       "    }\n",
       "\n",
       "    .dataframe thead th {\n",
       "        text-align: right;\n",
       "    }\n",
       "</style>\n",
       "<table border=\"1\" class=\"dataframe\">\n",
       "  <thead>\n",
       "    <tr style=\"text-align: right;\">\n",
       "      <th></th>\n",
       "      <th>count</th>\n",
       "      <th>mean</th>\n",
       "      <th>std</th>\n",
       "      <th>min</th>\n",
       "      <th>25%</th>\n",
       "      <th>50%</th>\n",
       "      <th>75%</th>\n",
       "      <th>max</th>\n",
       "    </tr>\n",
       "    <tr>\n",
       "      <th>company_location</th>\n",
       "      <th></th>\n",
       "      <th></th>\n",
       "      <th></th>\n",
       "      <th></th>\n",
       "      <th></th>\n",
       "      <th></th>\n",
       "      <th></th>\n",
       "      <th></th>\n",
       "    </tr>\n",
       "  </thead>\n",
       "  <tbody>\n",
       "    <tr>\n",
       "      <th>CA</th>\n",
       "      <td>30.0</td>\n",
       "      <td>99.8</td>\n",
       "      <td>46.3</td>\n",
       "      <td>52.0</td>\n",
       "      <td>69.7</td>\n",
       "      <td>81.9</td>\n",
       "      <td>117.9</td>\n",
       "      <td>225.0</td>\n",
       "    </tr>\n",
       "    <tr>\n",
       "      <th>DE</th>\n",
       "      <td>28.0</td>\n",
       "      <td>81.9</td>\n",
       "      <td>39.2</td>\n",
       "      <td>16.0</td>\n",
       "      <td>59.0</td>\n",
       "      <td>78.0</td>\n",
       "      <td>90.7</td>\n",
       "      <td>173.8</td>\n",
       "    </tr>\n",
       "    <tr>\n",
       "      <th>GB</th>\n",
       "      <td>47.0</td>\n",
       "      <td>81.6</td>\n",
       "      <td>29.5</td>\n",
       "      <td>37.3</td>\n",
       "      <td>57.6</td>\n",
       "      <td>78.5</td>\n",
       "      <td>103.9</td>\n",
       "      <td>183.2</td>\n",
       "    </tr>\n",
       "    <tr>\n",
       "      <th>IN</th>\n",
       "      <td>24.0</td>\n",
       "      <td>28.6</td>\n",
       "      <td>22.7</td>\n",
       "      <td>5.4</td>\n",
       "      <td>16.7</td>\n",
       "      <td>22.1</td>\n",
       "      <td>32.2</td>\n",
       "      <td>94.7</td>\n",
       "    </tr>\n",
       "    <tr>\n",
       "      <th>Other</th>\n",
       "      <td>123.0</td>\n",
       "      <td>58.7</td>\n",
       "      <td>41.6</td>\n",
       "      <td>2.9</td>\n",
       "      <td>33.0</td>\n",
       "      <td>50.2</td>\n",
       "      <td>75.5</td>\n",
       "      <td>260.0</td>\n",
       "    </tr>\n",
       "    <tr>\n",
       "      <th>US</th>\n",
       "      <td>355.0</td>\n",
       "      <td>144.1</td>\n",
       "      <td>69.9</td>\n",
       "      <td>5.7</td>\n",
       "      <td>100.0</td>\n",
       "      <td>135.0</td>\n",
       "      <td>170.0</td>\n",
       "      <td>600.0</td>\n",
       "    </tr>\n",
       "  </tbody>\n",
       "</table>\n",
       "</div>"
      ],
      "text/plain": [
       "                  count   mean   std   min    25%    50%    75%    max\n",
       "company_location                                                      \n",
       "CA                 30.0   99.8  46.3  52.0   69.7   81.9  117.9  225.0\n",
       "DE                 28.0   81.9  39.2  16.0   59.0   78.0   90.7  173.8\n",
       "GB                 47.0   81.6  29.5  37.3   57.6   78.5  103.9  183.2\n",
       "IN                 24.0   28.6  22.7   5.4   16.7   22.1   32.2   94.7\n",
       "Other             123.0   58.7  41.6   2.9   33.0   50.2   75.5  260.0\n",
       "US                355.0  144.1  69.9   5.7  100.0  135.0  170.0  600.0"
      ]
     },
     "execution_count": 94,
     "metadata": {},
     "output_type": "execute_result"
    }
   ],
   "source": [
    "data_company_location_vision_1k_agg=data_company_location_vision_1k.groupby(\"company_location\")[\"salary_in_usd\"].describe().round(1)\n",
    "print(\"Зп в зависимости от локации компании\")\n",
    "data_company_location_vision_1k_agg"
   ]
  },
  {
   "cell_type": "code",
   "execution_count": 95,
   "metadata": {},
   "outputs": [
    {
     "data": {
      "text/plain": [
       "[Text(0.5, 44.249999999999986, 'Год'),\n",
       " Text(54.75, 0.5, 'Локация главного офиса/филиала компании')]"
      ]
     },
     "execution_count": 95,
     "metadata": {},
     "output_type": "execute_result"
    },
    {
     "data": {
      "image/png": "[encoded data removed]",
      "text/plain": [
       "<Figure size 700x700 with 2 Axes>"
      ]
     },
     "metadata": {},
     "output_type": "display_data"
    }
   ],
   "source": [
    "# телловая карта для признака по локации главного офиса/филиала компании, ЗП уже приведена к знаменателю x/1000\n",
    "data_heatmap_company_location=pd.pivot_table(data_company_location_vision_1k, values='salary_in_usd', index='company_location', columns='work_year')\n",
    "fig, ax=plt.subplots(figsize=(7,7))\n",
    "ax=sns.heatmap(data_heatmap_company_location, linewidths=1, linecolor='black', annot=True, fmt=\"-.3g\", cmap='coolwarm')\n",
    "ax.set(xlabel=\"Год\", ylabel=\"Локация главного офиса/филиала компании\")"
   ]
  },
  {
   "cell_type": "code",
   "execution_count": 96,
   "metadata": {},
   "outputs": [
    {
     "data": {
      "image/png": "[encoded data removed]",
      "text/plain": [
       "<Figure size 640x480 with 1 Axes>"
      ]
     },
     "metadata": {},
     "output_type": "display_data"
    }
   ],
   "source": [
    "# глянем на распределение с учётом зп\n",
    "ax=sns.boxplot(data_company_location_vision_1k, x='salary_in_usd', y='company_location', orient=\"h\", medianprops={\"color\":\"red\", \"linestyle\":\"--\"})\n",
    "ax.set(xlabel=\"Зп\")\n",
    "ax.set(ylabel=\"Локация компании/страна\")\n",
    "ax.set_title(\"Распределение ЗП в зависимости от локации компании\")\n",
    "plt.show()"
   ]
  },
  {
   "attachments": {},
   "cell_type": "markdown",
   "metadata": {},
   "source": [
    "Предварительный вывод: выбросы присутствуют по всем группам в данном признаке, опять же самые выгодные условия по зп у компаний, которые находятся в US. Что касается роста зп по странам - видна положительная динамика в IN и DE, чего не скажешь о CA и GB, там наблюдается отрицательная динамика по зп с течением времени. ***Теперь самое интересное: в US по данному признаку нет ни роста ни снижения ЗП, хотя по предыдущей тепловой карте (признак \"страна проживания сотрудника\") мы наблюдали отрицательную динамику по зп с течением времени, предварительно это может говорить о том, что либо специалисты проживающие в US начали менять компании, которые находятся в US на компании из других стран, что и сказалось на их ЗП в худшую сторону, либо этих специалистов из US выдавили специалисты из других стран, готовые работать больше за те же деньги(это бы объясняло тот не реальный рост зп у специалистов из IN =)))***"
   ]
  },
  {
   "attachments": {},
   "cell_type": "markdown",
   "metadata": {},
   "source": [
    "### Смотрим признак \"Среднее кол-во сотрудников, работающих в компании\"(company_size)"
   ]
  },
  {
   "cell_type": "code",
   "execution_count": 97,
   "metadata": {},
   "outputs": [
    {
     "data": {
      "text/plain": [
       "company_size\n",
       "M    326\n",
       "L    198\n",
       "S     83\n",
       "Name: count, dtype: int64"
      ]
     },
     "execution_count": 97,
     "metadata": {},
     "output_type": "execute_result"
    }
   ],
   "source": [
    "# ну по классике\n",
    "data[\"company_size\"].value_counts()"
   ]
  },
  {
   "cell_type": "code",
   "execution_count": 98,
   "metadata": {},
   "outputs": [
    {
     "data": {
      "text/plain": [
       "Text(0, 0.5, '')"
      ]
     },
     "execution_count": 98,
     "metadata": {},
     "output_type": "execute_result"
    },
    {
     "data": {
      "image/png": "[encoded data removed]",
      "text/plain": [
       "<Figure size 640x480 with 1 Axes>"
      ]
     },
     "metadata": {},
     "output_type": "display_data"
    }
   ],
   "source": [
    "# накинем для визуального эффекта\n",
    "data['company_size'].value_counts().plot.bar(color='g')\n",
    "plt.title('Кол-во записей в сете в зависимости от размера компании')\n",
    "plt.xlabel('Размер компании')\n",
    "plt.ylabel('Кол-во записей')"
   ]
  },
  {
   "cell_type": "code",
   "execution_count": 99,
   "metadata": {},
   "outputs": [
    {
     "data": {
      "image/png": "[encoded data removed]",
      "text/plain": [
       "<Figure size 640x480 with 1 Axes>"
      ]
     },
     "metadata": {},
     "output_type": "display_data"
    }
   ],
   "source": [
    "# теперь глянем с учётом зп\n",
    "ax = sns.boxplot(data, x='salary_in_usd', y='company_size', orient='h', medianprops={\"color\": \"red\", \"linestyle\": '--'})\n",
    "ax.set(xlabel='ЗП по компаниям', ylabel='Размер компании')\n",
    "plt.title('Распределение зп в зависимости от размера компании')\n",
    "plt.show()"
   ]
  },
  {
   "cell_type": "code",
   "execution_count": 38,
   "metadata": {},
   "outputs": [
    {
     "name": "stdout",
     "output_type": "stream",
     "text": [
      "Распределение зп в зависимости от размера компании\n"
     ]
    },
    {
     "data": {
      "text/html": [
       "<div>\n",
       "<style scoped>\n",
       "    .dataframe tbody tr th:only-of-type {\n",
       "        vertical-align: middle;\n",
       "    }\n",
       "\n",
       "    .dataframe tbody tr th {\n",
       "        vertical-align: top;\n",
       "    }\n",
       "\n",
       "    .dataframe thead th {\n",
       "        text-align: right;\n",
       "    }\n",
       "</style>\n",
       "<table border=\"1\" class=\"dataframe\">\n",
       "  <thead>\n",
       "    <tr style=\"text-align: right;\">\n",
       "      <th></th>\n",
       "      <th>count</th>\n",
       "      <th>mean</th>\n",
       "      <th>std</th>\n",
       "      <th>min</th>\n",
       "      <th>25%</th>\n",
       "      <th>50%</th>\n",
       "      <th>75%</th>\n",
       "      <th>max</th>\n",
       "    </tr>\n",
       "    <tr>\n",
       "      <th>company_size</th>\n",
       "      <th></th>\n",
       "      <th></th>\n",
       "      <th></th>\n",
       "      <th></th>\n",
       "      <th></th>\n",
       "      <th></th>\n",
       "      <th></th>\n",
       "      <th></th>\n",
       "    </tr>\n",
       "  </thead>\n",
       "  <tbody>\n",
       "    <tr>\n",
       "      <th>M</th>\n",
       "      <td>326.0</td>\n",
       "      <td>116905.5</td>\n",
       "      <td>59287.7</td>\n",
       "      <td>4000.0</td>\n",
       "      <td>78131.5</td>\n",
       "      <td>113188.0</td>\n",
       "      <td>152875.0</td>\n",
       "      <td>450000.0</td>\n",
       "    </tr>\n",
       "    <tr>\n",
       "      <th>L</th>\n",
       "      <td>198.0</td>\n",
       "      <td>119243.0</td>\n",
       "      <td>86156.7</td>\n",
       "      <td>5882.0</td>\n",
       "      <td>61041.8</td>\n",
       "      <td>100000.0</td>\n",
       "      <td>154600.0</td>\n",
       "      <td>600000.0</td>\n",
       "    </tr>\n",
       "    <tr>\n",
       "      <th>S</th>\n",
       "      <td>83.0</td>\n",
       "      <td>77632.7</td>\n",
       "      <td>63461.7</td>\n",
       "      <td>2859.0</td>\n",
       "      <td>41943.0</td>\n",
       "      <td>65000.0</td>\n",
       "      <td>100000.0</td>\n",
       "      <td>416000.0</td>\n",
       "    </tr>\n",
       "  </tbody>\n",
       "</table>\n",
       "</div>"
      ],
      "text/plain": [
       "              count      mean      std     min      25%       50%       75%  \\\n",
       "company_size                                                                  \n",
       "M             326.0  116905.5  59287.7  4000.0  78131.5  113188.0  152875.0   \n",
       "L             198.0  119243.0  86156.7  5882.0  61041.8  100000.0  154600.0   \n",
       "S              83.0   77632.7  63461.7  2859.0  41943.0   65000.0  100000.0   \n",
       "\n",
       "                   max  \n",
       "company_size            \n",
       "M             450000.0  \n",
       "L             600000.0  \n",
       "S             416000.0  "
      ]
     },
     "execution_count": 38,
     "metadata": {},
     "output_type": "execute_result"
    }
   ],
   "source": [
    "data_company_size_agg=data.groupby('company_size')[\"salary_in_usd\"].describe().round(1)\n",
    "print(\"Распределение зп в зависимости от размера компании\")\n",
    "data_company_size_agg.sort_values(by=\"count\", ascending=False)"
   ]
  },
  {
   "cell_type": "code",
   "execution_count": 39,
   "metadata": {},
   "outputs": [
    {
     "data": {
      "text/html": [
       "<div>\n",
       "<style scoped>\n",
       "    .dataframe tbody tr th:only-of-type {\n",
       "        vertical-align: middle;\n",
       "    }\n",
       "\n",
       "    .dataframe tbody tr th {\n",
       "        vertical-align: top;\n",
       "    }\n",
       "\n",
       "    .dataframe thead th {\n",
       "        text-align: right;\n",
       "    }\n",
       "</style>\n",
       "<table border=\"1\" class=\"dataframe\">\n",
       "  <thead>\n",
       "    <tr style=\"text-align: right;\">\n",
       "      <th></th>\n",
       "      <th>work_year</th>\n",
       "      <th>experience_level</th>\n",
       "      <th>employment_type</th>\n",
       "      <th>job_title</th>\n",
       "      <th>salary_in_usd</th>\n",
       "      <th>employee_residence</th>\n",
       "      <th>remote_ratio</th>\n",
       "      <th>company_location</th>\n",
       "      <th>company_size</th>\n",
       "    </tr>\n",
       "  </thead>\n",
       "  <tbody>\n",
       "    <tr>\n",
       "      <th>0</th>\n",
       "      <td>2020</td>\n",
       "      <td>MI</td>\n",
       "      <td>FT</td>\n",
       "      <td>Data Scientist</td>\n",
       "      <td>79.833</td>\n",
       "      <td>DE</td>\n",
       "      <td>0</td>\n",
       "      <td>DE</td>\n",
       "      <td>L</td>\n",
       "    </tr>\n",
       "    <tr>\n",
       "      <th>1</th>\n",
       "      <td>2020</td>\n",
       "      <td>SE</td>\n",
       "      <td>FT</td>\n",
       "      <td>Machine Learning Scientist</td>\n",
       "      <td>260.000</td>\n",
       "      <td>JP</td>\n",
       "      <td>0</td>\n",
       "      <td>JP</td>\n",
       "      <td>S</td>\n",
       "    </tr>\n",
       "    <tr>\n",
       "      <th>2</th>\n",
       "      <td>2020</td>\n",
       "      <td>SE</td>\n",
       "      <td>FT</td>\n",
       "      <td>Big Data Engineer</td>\n",
       "      <td>109.024</td>\n",
       "      <td>GB</td>\n",
       "      <td>50</td>\n",
       "      <td>GB</td>\n",
       "      <td>M</td>\n",
       "    </tr>\n",
       "    <tr>\n",
       "      <th>3</th>\n",
       "      <td>2020</td>\n",
       "      <td>MI</td>\n",
       "      <td>FT</td>\n",
       "      <td>Product Data Analyst</td>\n",
       "      <td>20.000</td>\n",
       "      <td>HN</td>\n",
       "      <td>0</td>\n",
       "      <td>HN</td>\n",
       "      <td>S</td>\n",
       "    </tr>\n",
       "    <tr>\n",
       "      <th>4</th>\n",
       "      <td>2020</td>\n",
       "      <td>SE</td>\n",
       "      <td>FT</td>\n",
       "      <td>Machine Learning Engineer</td>\n",
       "      <td>150.000</td>\n",
       "      <td>US</td>\n",
       "      <td>50</td>\n",
       "      <td>US</td>\n",
       "      <td>L</td>\n",
       "    </tr>\n",
       "    <tr>\n",
       "      <th>...</th>\n",
       "      <td>...</td>\n",
       "      <td>...</td>\n",
       "      <td>...</td>\n",
       "      <td>...</td>\n",
       "      <td>...</td>\n",
       "      <td>...</td>\n",
       "      <td>...</td>\n",
       "      <td>...</td>\n",
       "      <td>...</td>\n",
       "    </tr>\n",
       "    <tr>\n",
       "      <th>602</th>\n",
       "      <td>2022</td>\n",
       "      <td>SE</td>\n",
       "      <td>FT</td>\n",
       "      <td>Data Engineer</td>\n",
       "      <td>154.000</td>\n",
       "      <td>US</td>\n",
       "      <td>100</td>\n",
       "      <td>US</td>\n",
       "      <td>M</td>\n",
       "    </tr>\n",
       "    <tr>\n",
       "      <th>603</th>\n",
       "      <td>2022</td>\n",
       "      <td>SE</td>\n",
       "      <td>FT</td>\n",
       "      <td>Data Engineer</td>\n",
       "      <td>126.000</td>\n",
       "      <td>US</td>\n",
       "      <td>100</td>\n",
       "      <td>US</td>\n",
       "      <td>M</td>\n",
       "    </tr>\n",
       "    <tr>\n",
       "      <th>604</th>\n",
       "      <td>2022</td>\n",
       "      <td>SE</td>\n",
       "      <td>FT</td>\n",
       "      <td>Data Analyst</td>\n",
       "      <td>129.000</td>\n",
       "      <td>US</td>\n",
       "      <td>0</td>\n",
       "      <td>US</td>\n",
       "      <td>M</td>\n",
       "    </tr>\n",
       "    <tr>\n",
       "      <th>605</th>\n",
       "      <td>2022</td>\n",
       "      <td>SE</td>\n",
       "      <td>FT</td>\n",
       "      <td>Data Analyst</td>\n",
       "      <td>150.000</td>\n",
       "      <td>US</td>\n",
       "      <td>100</td>\n",
       "      <td>US</td>\n",
       "      <td>M</td>\n",
       "    </tr>\n",
       "    <tr>\n",
       "      <th>606</th>\n",
       "      <td>2022</td>\n",
       "      <td>MI</td>\n",
       "      <td>FT</td>\n",
       "      <td>AI Scientist</td>\n",
       "      <td>200.000</td>\n",
       "      <td>IN</td>\n",
       "      <td>100</td>\n",
       "      <td>US</td>\n",
       "      <td>L</td>\n",
       "    </tr>\n",
       "  </tbody>\n",
       "</table>\n",
       "<p>607 rows × 9 columns</p>\n",
       "</div>"
      ],
      "text/plain": [
       "     work_year experience_level employment_type                   job_title  \\\n",
       "0         2020               MI              FT              Data Scientist   \n",
       "1         2020               SE              FT  Machine Learning Scientist   \n",
       "2         2020               SE              FT           Big Data Engineer   \n",
       "3         2020               MI              FT        Product Data Analyst   \n",
       "4         2020               SE              FT   Machine Learning Engineer   \n",
       "..         ...              ...             ...                         ...   \n",
       "602       2022               SE              FT               Data Engineer   \n",
       "603       2022               SE              FT               Data Engineer   \n",
       "604       2022               SE              FT                Data Analyst   \n",
       "605       2022               SE              FT                Data Analyst   \n",
       "606       2022               MI              FT                AI Scientist   \n",
       "\n",
       "     salary_in_usd employee_residence  remote_ratio company_location  \\\n",
       "0           79.833                 DE             0               DE   \n",
       "1          260.000                 JP             0               JP   \n",
       "2          109.024                 GB            50               GB   \n",
       "3           20.000                 HN             0               HN   \n",
       "4          150.000                 US            50               US   \n",
       "..             ...                ...           ...              ...   \n",
       "602        154.000                 US           100               US   \n",
       "603        126.000                 US           100               US   \n",
       "604        129.000                 US             0               US   \n",
       "605        150.000                 US           100               US   \n",
       "606        200.000                 IN           100               US   \n",
       "\n",
       "    company_size  \n",
       "0              L  \n",
       "1              S  \n",
       "2              M  \n",
       "3              S  \n",
       "4              L  \n",
       "..           ...  \n",
       "602            M  \n",
       "603            M  \n",
       "604            M  \n",
       "605            M  \n",
       "606            L  \n",
       "\n",
       "[607 rows x 9 columns]"
      ]
     },
     "execution_count": 39,
     "metadata": {},
     "output_type": "execute_result"
    }
   ],
   "source": [
    "# ну и снова приведем зп к знаменателю x/1000\n",
    "data_company_size_1k=data.copy()\n",
    "data_company_size_1k['salary_in_usd']=data[\"salary_in_usd\"].apply(lambda x:x/1000)\n",
    "data_company_size_1k"
   ]
  },
  {
   "cell_type": "code",
   "execution_count": 40,
   "metadata": {},
   "outputs": [
    {
     "data": {
      "text/plain": [
       "[Text(0.5, 44.249999999999986, 'Год'), Text(54.75, 0.5, 'Размер компании')]"
      ]
     },
     "execution_count": 40,
     "metadata": {},
     "output_type": "execute_result"
    },
    {
     "data": {
      "image/png": "[encoded data removed]",
      "text/plain": [
       "<Figure size 700x700 with 2 Axes>"
      ]
     },
     "metadata": {},
     "output_type": "display_data"
    }
   ],
   "source": [
    "# телловая карта для признака по размеру компании, ЗП уже приведена к знаменателю x/1000\n",
    "data_heatmap_company_size=pd.pivot_table(data_company_size_1k, values='salary_in_usd', index='company_size', columns='work_year')\n",
    "fig, ax=plt.subplots(figsize=(7,7))\n",
    "ax=sns.heatmap(data_heatmap_company_size, linewidths=1, linecolor='black', annot=True, fmt=\"-.3g\", cmap='coolwarm')\n",
    "ax.set(xlabel=\"Год\", ylabel=\"Размер компании\")"
   ]
  },
  {
   "attachments": {},
   "cell_type": "markdown",
   "metadata": {},
   "source": [
    "Предварительный вывод: выбросы присутствуют по всем группам. ЗП в S-компаниях с течением времени не менялась, какой-то непонятный провал виден по M-компаниям, ну и значительный рост зп по L-компаниям"
   ]
  },
  {
   "attachments": {},
   "cell_type": "markdown",
   "metadata": {},
   "source": [
    "# Первичные предварительные ответы на вопрос: «Какие факторы влияют на заработную плату?»"
   ]
  },
  {
   "attachments": {},
   "cell_type": "markdown",
   "metadata": {},
   "source": [
    "1. "
   ]
  }
 ],
 "metadata": {
  "kernelspec": {
   "display_name": "Python 3",
   "language": "python",
   "name": "python3"
  },
  "language_info": {
   "codemirror_mode": {
    "name": "ipython",
    "version": 3
   },
   "file_extension": ".py",
   "mimetype": "text/x-python",
   "name": "python",
   "nbconvert_exporter": "python",
   "pygments_lexer": "ipython3",
   "version": "3.9.10"
  },
  "orig_nbformat": 4,
  "vscode": {
   "interpreter": {
    "hash": "cf92aa13fedf815d5c8dd192b8d835913fde3e8bc926b2a0ad6cc74ef2ba3ca2"
   }
  }
 },
 "nbformat": 4,
 "nbformat_minor": 2
}
